{
 "cells": [
  {
   "cell_type": "code",
   "execution_count": 1,
   "metadata": {
    "collapsed": false
   },
   "outputs": [
    {
     "name": "stdout",
     "output_type": "stream",
     "text": [
      "before\n",
      "this is function f1\n",
      "after\n"
     ]
    }
   ],
   "source": [
    "# 装饰器的演示\n",
    "\n",
    "# 1:带参数的装饰器\n",
    "def dec(func):\n",
    "    def inner(*args,**kwargs):\n",
    "        print 'before'\n",
    "        func(*args,**kwargs)\n",
    "        print 'after'\n",
    "        \n",
    "    return inner\n",
    "\n",
    "@dec\n",
    "def f1(a):\n",
    "    print a\n",
    "f1('this is function f1')"
   ]
  },
  {
   "cell_type": "code",
   "execution_count": 4,
   "metadata": {
    "collapsed": false
   },
   "outputs": [
    {
     "name": "stdout",
     "output_type": "stream",
     "text": [
      "before\n",
      "after\n",
      "this is function f2\n"
     ]
    }
   ],
   "source": [
    "#2: 含有带返回值的装饰器\n",
    "\n",
    "def dec2(func):\n",
    "    def inner(*args,**kwargs):\n",
    "        print 'before'\n",
    "        res=func(*args,**kwargs)\n",
    "        print 'after'\n",
    "        return res\n",
    "    return inner\n",
    "\n",
    "@dec2\n",
    "def f2(a):\n",
    "    return a\n",
    "\n",
    "print f2('this is function f2')"
   ]
  },
  {
   "cell_type": "code",
   "execution_count": 5,
   "metadata": {
    "collapsed": false
   },
   "outputs": [
    {
     "name": "stdout",
     "output_type": "stream",
     "text": [
      "before in decorator 3\n",
      "before in decorator 4\n",
      "this is function 3\n",
      "after in decorator 4\n",
      "after in decorator 4\n"
     ]
    }
   ],
   "source": [
    "# 多个装饰器\n",
    "def dec3(func):\n",
    "    def inner(*args,**kwargs):\n",
    "        print 'before in decorator 3'\n",
    "        func(*args,**kwargs)\n",
    "        print 'after in decorator 4'\n",
    "    return inner\n",
    "\n",
    "def dec4(func):\n",
    "    def inner(*args,**kwargs):\n",
    "        print 'before in decorator 4'\n",
    "        func(*args,**kwargs)\n",
    "        print 'after in decorator 4'\n",
    "    return inner\n",
    "\n",
    "@dec3\n",
    "@dec4\n",
    "def f3():\n",
    "    print 'this is function 3'\n",
    "f3()\n",
    "    "
   ]
  },
  {
   "cell_type": "code",
   "execution_count": 6,
   "metadata": {
    "collapsed": false
   },
   "outputs": [
    {
     "name": "stdout",
     "output_type": "stream",
     "text": [
      "parameter1 parameter2\n",
      "before in decrator 5, parameters for decorator 5 are parameter1 parameter2\n",
      "this is function 5\n",
      "after in decrator 5, parameters for decorator 5 are parameter1 parameter2\n"
     ]
    }
   ],
   "source": [
    "# 带有参数的装饰器,首先先执行参数的外层函数，返回的是里层的函数，里层的函数是一个装饰器函数\n",
    "\n",
    "def dec5(a1,a2):\n",
    "    print a1,a2\n",
    "    def inner_dec(func):\n",
    "        def inner(*args,**kwargs):\n",
    "            print 'before in decrator 5, parameters for decorator 5 are',a1,a2\n",
    "            func(*args,**kwargs)\n",
    "            print 'after in decrator 5, parameters for decorator 5 are',a1,a2\n",
    "        return inner\n",
    "        \n",
    "    return inner_dec \n",
    "\n",
    "@dec5('parameter1','parameter2')\n",
    "def f5():\n",
    "    print 'this is function 5'\n",
    "f5()"
   ]
  },
  {
   "cell_type": "code",
   "execution_count": null,
   "metadata": {
    "collapsed": true
   },
   "outputs": [],
   "source": []
  }
 ],
 "metadata": {
  "kernelspec": {
   "display_name": "Python 2",
   "language": "python",
   "name": "python2"
  },
  "language_info": {
   "codemirror_mode": {
    "name": "ipython",
    "version": 2
   },
   "file_extension": ".py",
   "mimetype": "text/x-python",
   "name": "python",
   "nbconvert_exporter": "python",
   "pygments_lexer": "ipython2",
   "version": "2.7.10"
  }
 },
 "nbformat": 4,
 "nbformat_minor": 0
}
