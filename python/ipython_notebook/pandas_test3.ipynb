{
 "cells": [
  {
   "cell_type": "code",
   "execution_count": 3,
   "metadata": {
    "collapsed": true
   },
   "outputs": [],
   "source": [
    "import pandas as pd\n",
    "import numpy as np\n"
   ]
  },
  {
   "cell_type": "code",
   "execution_count": 6,
   "metadata": {
    "collapsed": false
   },
   "outputs": [
    {
     "name": "stdout",
     "output_type": "stream",
     "text": [
      "   data1  data2  data3   key1  key2\n",
      "0      0      1      2    one  five\n",
      "1      3      4      5    two  four\n",
      "2      6      7      8  three  five\n",
      "3      9     10     11    one  five \n",
      "\n",
      "<pandas.core.groupby.DataFrameGroupBy object at 0x11134a990>\n",
      "groupby 的mean方法\n",
      "            data1  data2  data3\n",
      "key1  key2                     \n",
      "one   five    4.5    5.5    6.5\n",
      "three five    6.0    7.0    8.0\n",
      "two   four    3.0    4.0    5.0 \n",
      "\n",
      "groupby 的size方法\n",
      "key1   key2\n",
      "one    five    2\n",
      "three  five    1\n",
      "two    four    1\n",
      "dtype: int64 \n",
      "\n",
      "自定义指定一些列来groupby\n",
      "a  d    0\n",
      "   e    3\n",
      "b  d    6\n",
      "c  e    9\n",
      "Name: data1, dtype: int64 \n",
      "\n",
      "groupby 会自动忽略掉一些非数值型的一些列,此时忽略掉key2列\n",
      "       data1  data2  data3\n",
      "key1                      \n",
      "one      4.5    5.5    6.5\n",
      "three    6.0    7.0    8.0\n",
      "two      3.0    4.0    5.0 \n",
      "\n",
      "group对象的describe 方法\n",
      "                data1      data2      data3\n",
      "key1                                       \n",
      "one   count  2.000000   2.000000   2.000000\n",
      "      mean   4.500000   5.500000   6.500000\n",
      "      std    6.363961   6.363961   6.363961\n",
      "      min    0.000000   1.000000   2.000000\n",
      "      25%    2.250000   3.250000   4.250000\n",
      "      50%    4.500000   5.500000   6.500000\n",
      "      75%    6.750000   7.750000   8.750000\n",
      "      max    9.000000  10.000000  11.000000\n",
      "three count  1.000000   1.000000   1.000000\n",
      "      mean   6.000000   7.000000   8.000000\n",
      "      std         NaN        NaN        NaN\n",
      "      min    6.000000   7.000000   8.000000\n",
      "      25%    6.000000   7.000000   8.000000\n",
      "      50%    6.000000   7.000000   8.000000\n",
      "      75%    6.000000   7.000000   8.000000\n",
      "      max    6.000000   7.000000   8.000000\n",
      "two   count  1.000000   1.000000   1.000000\n",
      "      mean   3.000000   4.000000   5.000000\n",
      "      std         NaN        NaN        NaN\n",
      "      min    3.000000   4.000000   5.000000\n",
      "      25%    3.000000   4.000000   5.000000\n",
      "      50%    3.000000   4.000000   5.000000\n",
      "      75%    3.000000   4.000000   5.000000\n",
      "      max    3.000000   4.000000   5.000000 \n",
      "\n"
     ]
    }
   ],
   "source": [
    "'''\n",
    "Groupby 的用法\n",
    "'''\n",
    "data = pd.DataFrame(np.arange(12).reshape(4,3),columns=['data1','data2','data3'])\n",
    "data['key1']=['one','two','three','one']\n",
    "data['key2']=['five','four','five','five']\n",
    "print data,'\\n'\n",
    "print data.groupby(['key1','key2'])#this is the groupby result, we can get the statistic based on this object\n",
    "print 'groupby 的mean方法'\n",
    "print data.groupby(['key1','key2']).mean(),'\\n'\n",
    "print 'groupby 的size方法'\n",
    "print data.groupby(['key1','key2']).size(),'\\n'\n",
    "\n",
    "# 可以指定一些数组来groupby一些指定的列\n",
    "col1 = ['a','a','b','c']\n",
    "col2 = ['d','e','d','e']\n",
    "print '自定义指定一些列来groupby'\n",
    "print data['data1'].groupby([col1,col2]).mean(),'\\n'\n",
    "print 'groupby 会自动忽略掉一些非数值型的一些列,此时忽略掉key2列'\n",
    "print data.groupby(['key1']).mean(),'\\n'\n",
    "\n",
    "# groupby对象的describe 方法\n",
    "print 'group对象的describe 方法'\n",
    "print data.groupby(['key1']).describe(),'\\n'\n"
   ]
  },
  {
   "cell_type": "code",
   "execution_count": 36,
   "metadata": {
    "collapsed": false
   },
   "outputs": [
    {
     "name": "stdout",
     "output_type": "stream",
     "text": [
      "5    18\n",
      "6    22\n",
      "7    26\n",
      "dtype: int64\n",
      "0     3\n",
      "1    12\n",
      "2    21\n",
      "3    30\n",
      "dtype: int64\n"
     ]
    },
    {
     "data": {
      "text/html": [
       "<div>\n",
       "<table border=\"1\" class=\"dataframe\">\n",
       "  <thead>\n",
       "    <tr style=\"text-align: right;\">\n",
       "      <th></th>\n",
       "      <th>5</th>\n",
       "      <th>6</th>\n",
       "      <th>7</th>\n",
       "    </tr>\n",
       "  </thead>\n",
       "  <tbody>\n",
       "    <tr>\n",
       "      <th>0</th>\n",
       "      <td>0</td>\n",
       "      <td>1</td>\n",
       "      <td>2</td>\n",
       "    </tr>\n",
       "    <tr>\n",
       "      <th>1</th>\n",
       "      <td>3</td>\n",
       "      <td>4</td>\n",
       "      <td>5</td>\n",
       "    </tr>\n",
       "    <tr>\n",
       "      <th>2</th>\n",
       "      <td>6</td>\n",
       "      <td>7</td>\n",
       "      <td>8</td>\n",
       "    </tr>\n",
       "    <tr>\n",
       "      <th>3</th>\n",
       "      <td>9</td>\n",
       "      <td>10</td>\n",
       "      <td>11</td>\n",
       "    </tr>\n",
       "  </tbody>\n",
       "</table>\n",
       "</div>"
      ],
      "text/plain": [
       "   5   6   7\n",
       "0  0   1   2\n",
       "1  3   4   5\n",
       "2  6   7   8\n",
       "3  9  10  11"
      ]
     },
     "execution_count": 36,
     "metadata": {},
     "output_type": "execute_result"
    }
   ],
   "source": [
    "'''Aside（忘记了）: 关于axis,axis=0,返回各列，axsi=1,返回各行'''\n",
    "x = pd.DataFrame(np.arange(12).reshape(4,3),columns=[5,6,7])\n",
    "print x.sum()\n",
    "print x.sum(axis=1)\n",
    "x"
   ]
  },
  {
   "cell_type": "code",
   "execution_count": 43,
   "metadata": {
    "collapsed": false
   },
   "outputs": [
    {
     "name": "stdout",
     "output_type": "stream",
     "text": [
      "groupby对象的aggregate方法，可以是自定义函数\n"
     ]
    },
    {
     "data": {
      "text/html": [
       "<div>\n",
       "<table border=\"1\" class=\"dataframe\">\n",
       "  <thead>\n",
       "    <tr>\n",
       "      <th></th>\n",
       "      <th colspan=\"3\" halign=\"left\">data1</th>\n",
       "      <th colspan=\"3\" halign=\"left\">data2</th>\n",
       "      <th colspan=\"3\" halign=\"left\">data3</th>\n",
       "    </tr>\n",
       "    <tr>\n",
       "      <th></th>\n",
       "      <th>mean</th>\n",
       "      <th>std</th>\n",
       "      <th>peak_to_peak</th>\n",
       "      <th>mean</th>\n",
       "      <th>std</th>\n",
       "      <th>peak_to_peak</th>\n",
       "      <th>mean</th>\n",
       "      <th>std</th>\n",
       "      <th>peak_to_peak</th>\n",
       "    </tr>\n",
       "    <tr>\n",
       "      <th>key1</th>\n",
       "      <th></th>\n",
       "      <th></th>\n",
       "      <th></th>\n",
       "      <th></th>\n",
       "      <th></th>\n",
       "      <th></th>\n",
       "      <th></th>\n",
       "      <th></th>\n",
       "      <th></th>\n",
       "    </tr>\n",
       "  </thead>\n",
       "  <tbody>\n",
       "    <tr>\n",
       "      <th>one</th>\n",
       "      <td>4.5</td>\n",
       "      <td>6.363961</td>\n",
       "      <td>9</td>\n",
       "      <td>5.5</td>\n",
       "      <td>6.363961</td>\n",
       "      <td>9</td>\n",
       "      <td>6.5</td>\n",
       "      <td>6.363961</td>\n",
       "      <td>9</td>\n",
       "    </tr>\n",
       "    <tr>\n",
       "      <th>three</th>\n",
       "      <td>6.0</td>\n",
       "      <td>NaN</td>\n",
       "      <td>0</td>\n",
       "      <td>7.0</td>\n",
       "      <td>NaN</td>\n",
       "      <td>0</td>\n",
       "      <td>8.0</td>\n",
       "      <td>NaN</td>\n",
       "      <td>0</td>\n",
       "    </tr>\n",
       "    <tr>\n",
       "      <th>two</th>\n",
       "      <td>3.0</td>\n",
       "      <td>NaN</td>\n",
       "      <td>0</td>\n",
       "      <td>4.0</td>\n",
       "      <td>NaN</td>\n",
       "      <td>0</td>\n",
       "      <td>5.0</td>\n",
       "      <td>NaN</td>\n",
       "      <td>0</td>\n",
       "    </tr>\n",
       "  </tbody>\n",
       "</table>\n",
       "</div>"
      ],
      "text/plain": [
       "      data1                        data2                        data3  \\\n",
       "       mean       std peak_to_peak  mean       std peak_to_peak  mean   \n",
       "key1                                                                    \n",
       "one     4.5  6.363961            9   5.5  6.363961            9   6.5   \n",
       "three   6.0       NaN            0   7.0       NaN            0   8.0   \n",
       "two     3.0       NaN            0   4.0       NaN            0   5.0   \n",
       "\n",
       "                              \n",
       "            std peak_to_peak  \n",
       "key1                          \n",
       "one    6.363961            9  \n",
       "three       NaN            0  \n",
       "two         NaN            0  "
      ]
     },
     "execution_count": 43,
     "metadata": {},
     "output_type": "execute_result"
    }
   ],
   "source": [
    "'''\n",
    "groupby对象的aggregate方法, 传入的数据可以是列表，元组列表或者字典\n",
    "'''\n",
    "#1:列表，返回列表对应的方法的列\n",
    "def peak_to_peak(arr):\n",
    "    return arr.max()-arr.min()\n",
    "print 'groupby对象的aggregate方法，可以是自定义函数'\n",
    "data.groupby(['key1']).agg(['mean','std',peak_to_peak])"
   ]
  },
  {
   "cell_type": "code",
   "execution_count": 46,
   "metadata": {
    "collapsed": false
   },
   "outputs": [
    {
     "data": {
      "text/html": [
       "<div>\n",
       "<table border=\"1\" class=\"dataframe\">\n",
       "  <thead>\n",
       "    <tr>\n",
       "      <th></th>\n",
       "      <th colspan=\"2\" halign=\"left\">data1</th>\n",
       "      <th colspan=\"2\" halign=\"left\">data2</th>\n",
       "      <th colspan=\"2\" halign=\"left\">data3</th>\n",
       "    </tr>\n",
       "    <tr>\n",
       "      <th></th>\n",
       "      <th>inner1</th>\n",
       "      <th>inner2</th>\n",
       "      <th>inner1</th>\n",
       "      <th>inner2</th>\n",
       "      <th>inner1</th>\n",
       "      <th>inner2</th>\n",
       "    </tr>\n",
       "    <tr>\n",
       "      <th>key1</th>\n",
       "      <th></th>\n",
       "      <th></th>\n",
       "      <th></th>\n",
       "      <th></th>\n",
       "      <th></th>\n",
       "      <th></th>\n",
       "    </tr>\n",
       "  </thead>\n",
       "  <tbody>\n",
       "    <tr>\n",
       "      <th>one</th>\n",
       "      <td>9</td>\n",
       "      <td>6.363961</td>\n",
       "      <td>11</td>\n",
       "      <td>6.363961</td>\n",
       "      <td>13</td>\n",
       "      <td>6.363961</td>\n",
       "    </tr>\n",
       "    <tr>\n",
       "      <th>three</th>\n",
       "      <td>6</td>\n",
       "      <td>NaN</td>\n",
       "      <td>7</td>\n",
       "      <td>NaN</td>\n",
       "      <td>8</td>\n",
       "      <td>NaN</td>\n",
       "    </tr>\n",
       "    <tr>\n",
       "      <th>two</th>\n",
       "      <td>3</td>\n",
       "      <td>NaN</td>\n",
       "      <td>4</td>\n",
       "      <td>NaN</td>\n",
       "      <td>5</td>\n",
       "      <td>NaN</td>\n",
       "    </tr>\n",
       "  </tbody>\n",
       "</table>\n",
       "</div>"
      ],
      "text/plain": [
       "       data1            data2            data3          \n",
       "      inner1    inner2 inner1    inner2 inner1    inner2\n",
       "key1                                                    \n",
       "one        9  6.363961     11  6.363961     13  6.363961\n",
       "three      6       NaN      7       NaN      8       NaN\n",
       "two        3       NaN      4       NaN      5       NaN"
      ]
     },
     "execution_count": 46,
     "metadata": {},
     "output_type": "execute_result"
    }
   ],
   "source": [
    "#2:列表中含有元组元素,将元组内的方法对应与每一列\n",
    "data.groupby(['key1']).agg([('inner1','sum'),('inner2','std')])"
   ]
  },
  {
   "cell_type": "code",
   "execution_count": 48,
   "metadata": {
    "collapsed": false
   },
   "outputs": [
    {
     "data": {
      "text/html": [
       "<div>\n",
       "<table border=\"1\" class=\"dataframe\">\n",
       "  <thead>\n",
       "    <tr style=\"text-align: right;\">\n",
       "      <th></th>\n",
       "      <th>data1</th>\n",
       "      <th>data2</th>\n",
       "    </tr>\n",
       "    <tr>\n",
       "      <th>key1</th>\n",
       "      <th></th>\n",
       "      <th></th>\n",
       "    </tr>\n",
       "  </thead>\n",
       "  <tbody>\n",
       "    <tr>\n",
       "      <th>one</th>\n",
       "      <td>9</td>\n",
       "      <td>5.5</td>\n",
       "    </tr>\n",
       "    <tr>\n",
       "      <th>three</th>\n",
       "      <td>6</td>\n",
       "      <td>7.0</td>\n",
       "    </tr>\n",
       "    <tr>\n",
       "      <th>two</th>\n",
       "      <td>3</td>\n",
       "      <td>4.0</td>\n",
       "    </tr>\n",
       "  </tbody>\n",
       "</table>\n",
       "</div>"
      ],
      "text/plain": [
       "       data1  data2\n",
       "key1               \n",
       "one        9    5.5\n",
       "three      6    7.0\n",
       "two        3    4.0"
      ]
     },
     "execution_count": 48,
     "metadata": {},
     "output_type": "execute_result"
    }
   ],
   "source": [
    "#3: 传入字典，对不同的列采取不同的方法，通过 key-value来指定每一列的方法\n",
    "data.groupby(['key1']).agg({'data1':'sum','data2':'mean'})"
   ]
  },
  {
   "cell_type": "code",
   "execution_count": null,
   "metadata": {
    "collapsed": true
   },
   "outputs": [],
   "source": [
    "'''\n",
    "groupby中的其他分组的运算和转换：transform, apply方法\n",
    "'''"
   ]
  },
  {
   "cell_type": "code",
   "execution_count": 6,
   "metadata": {
    "collapsed": false
   },
   "outputs": [
    {
     "data": {
      "text/html": [
       "<div>\n",
       "<table border=\"1\" class=\"dataframe\">\n",
       "  <thead>\n",
       "    <tr style=\"text-align: right;\">\n",
       "      <th></th>\n",
       "      <th>age</th>\n",
       "      <th>cp</th>\n",
       "      <th>id</th>\n",
       "      <th>name</th>\n",
       "    </tr>\n",
       "  </thead>\n",
       "  <tbody>\n",
       "    <tr>\n",
       "      <th>a</th>\n",
       "      <td>20</td>\n",
       "      <td>lm</td>\n",
       "      <td>0</td>\n",
       "      <td>lxh</td>\n",
       "    </tr>\n",
       "    <tr>\n",
       "      <th>b</th>\n",
       "      <td>40</td>\n",
       "      <td>ly</td>\n",
       "      <td>1</td>\n",
       "      <td>xiao</td>\n",
       "    </tr>\n",
       "    <tr>\n",
       "      <th>c</th>\n",
       "      <td>4</td>\n",
       "      <td>yry</td>\n",
       "      <td>2</td>\n",
       "      <td>hua</td>\n",
       "    </tr>\n",
       "    <tr>\n",
       "      <th>d</th>\n",
       "      <td>70</td>\n",
       "      <td>old</td>\n",
       "      <td>3</td>\n",
       "      <td>be</td>\n",
       "    </tr>\n",
       "  </tbody>\n",
       "</table>\n",
       "</div>"
      ],
      "text/plain": [
       "   age   cp  id  name\n",
       "a   20   lm   0   lxh\n",
       "b   40   ly   1  xiao\n",
       "c    4  yry   2   hua\n",
       "d   70  old   3    be"
      ]
     },
     "execution_count": 6,
     "metadata": {},
     "output_type": "execute_result"
    }
   ],
   "source": [
    "'''\n",
    "pandas dataframe 的join()方法：\n",
    "'''\n",
    "data=pd.DataFrame([{\"id\":0,\"name\":'lxh',\"age\":20,\"cp\":'lm'},{\"id\":1,\"name\":'xiao',\"age\":40,\"cp\":'ly'},{\"id\":2,\"name\":'hua',\"age\":4,\"cp\":'yry'},{\"id\":3,\"name\":'be',\"age\":70,\"cp\":'old'}],index=['a','b','c','d'])\n",
    "data"
   ]
  },
  {
   "cell_type": "code",
   "execution_count": 8,
   "metadata": {
    "collapsed": false
   },
   "outputs": [
    {
     "data": {
      "text/html": [
       "<div>\n",
       "<table border=\"1\" class=\"dataframe\">\n",
       "  <thead>\n",
       "    <tr style=\"text-align: right;\">\n",
       "      <th></th>\n",
       "      <th>sex</th>\n",
       "    </tr>\n",
       "  </thead>\n",
       "  <tbody>\n",
       "    <tr>\n",
       "      <th>a</th>\n",
       "      <td>0</td>\n",
       "    </tr>\n",
       "    <tr>\n",
       "      <th>b</th>\n",
       "      <td>1</td>\n",
       "    </tr>\n",
       "    <tr>\n",
       "      <th>e</th>\n",
       "      <td>2</td>\n",
       "    </tr>\n",
       "  </tbody>\n",
       "</table>\n",
       "</div>"
      ],
      "text/plain": [
       "   sex\n",
       "a    0\n",
       "b    1\n",
       "e    2"
      ]
     },
     "execution_count": 8,
     "metadata": {},
     "output_type": "execute_result"
    }
   ],
   "source": [
    "data1=pd.DataFrame([{\"sex\":0},{\"sex\":1},{\"sex\":2}],index=['a','b','e'])\n",
    "data1"
   ]
  },
  {
   "cell_type": "code",
   "execution_count": 9,
   "metadata": {
    "collapsed": false
   },
   "outputs": [
    {
     "data": {
      "text/html": [
       "<div>\n",
       "<table border=\"1\" class=\"dataframe\">\n",
       "  <thead>\n",
       "    <tr style=\"text-align: right;\">\n",
       "      <th></th>\n",
       "      <th>age</th>\n",
       "      <th>cp</th>\n",
       "      <th>id</th>\n",
       "      <th>name</th>\n",
       "      <th>sex</th>\n",
       "    </tr>\n",
       "  </thead>\n",
       "  <tbody>\n",
       "    <tr>\n",
       "      <th>a</th>\n",
       "      <td>20</td>\n",
       "      <td>lm</td>\n",
       "      <td>0</td>\n",
       "      <td>lxh</td>\n",
       "      <td>0.0</td>\n",
       "    </tr>\n",
       "    <tr>\n",
       "      <th>b</th>\n",
       "      <td>40</td>\n",
       "      <td>ly</td>\n",
       "      <td>1</td>\n",
       "      <td>xiao</td>\n",
       "      <td>1.0</td>\n",
       "    </tr>\n",
       "    <tr>\n",
       "      <th>c</th>\n",
       "      <td>4</td>\n",
       "      <td>yry</td>\n",
       "      <td>2</td>\n",
       "      <td>hua</td>\n",
       "      <td>NaN</td>\n",
       "    </tr>\n",
       "    <tr>\n",
       "      <th>d</th>\n",
       "      <td>70</td>\n",
       "      <td>old</td>\n",
       "      <td>3</td>\n",
       "      <td>be</td>\n",
       "      <td>NaN</td>\n",
       "    </tr>\n",
       "  </tbody>\n",
       "</table>\n",
       "</div>"
      ],
      "text/plain": [
       "   age   cp  id  name  sex\n",
       "a   20   lm   0   lxh  0.0\n",
       "b   40   ly   1  xiao  1.0\n",
       "c    4  yry   2   hua  NaN\n",
       "d   70  old   3    be  NaN"
      ]
     },
     "execution_count": 9,
     "metadata": {},
     "output_type": "execute_result"
    }
   ],
   "source": [
    "data.join(data1) #默认是做连接"
   ]
  },
  {
   "cell_type": "code",
   "execution_count": 10,
   "metadata": {
    "collapsed": false
   },
   "outputs": [
    {
     "data": {
      "text/html": [
       "<div>\n",
       "<table border=\"1\" class=\"dataframe\">\n",
       "  <thead>\n",
       "    <tr style=\"text-align: right;\">\n",
       "      <th></th>\n",
       "      <th>age</th>\n",
       "      <th>cp</th>\n",
       "      <th>id</th>\n",
       "      <th>name</th>\n",
       "      <th>sex</th>\n",
       "    </tr>\n",
       "  </thead>\n",
       "  <tbody>\n",
       "    <tr>\n",
       "      <th>a</th>\n",
       "      <td>20.0</td>\n",
       "      <td>lm</td>\n",
       "      <td>0.0</td>\n",
       "      <td>lxh</td>\n",
       "      <td>0</td>\n",
       "    </tr>\n",
       "    <tr>\n",
       "      <th>b</th>\n",
       "      <td>40.0</td>\n",
       "      <td>ly</td>\n",
       "      <td>1.0</td>\n",
       "      <td>xiao</td>\n",
       "      <td>1</td>\n",
       "    </tr>\n",
       "    <tr>\n",
       "      <th>e</th>\n",
       "      <td>NaN</td>\n",
       "      <td>NaN</td>\n",
       "      <td>NaN</td>\n",
       "      <td>NaN</td>\n",
       "      <td>2</td>\n",
       "    </tr>\n",
       "  </tbody>\n",
       "</table>\n",
       "</div>"
      ],
      "text/plain": [
       "    age   cp   id  name  sex\n",
       "a  20.0   lm  0.0   lxh    0\n",
       "b  40.0   ly  1.0  xiao    1\n",
       "e   NaN  NaN  NaN   NaN    2"
      ]
     },
     "execution_count": 10,
     "metadata": {},
     "output_type": "execute_result"
    }
   ],
   "source": [
    "data.join(data1,how=\"right\") #右连接"
   ]
  },
  {
   "cell_type": "code",
   "execution_count": 11,
   "metadata": {
    "collapsed": false
   },
   "outputs": [
    {
     "data": {
      "text/html": [
       "<div>\n",
       "<table border=\"1\" class=\"dataframe\">\n",
       "  <thead>\n",
       "    <tr style=\"text-align: right;\">\n",
       "      <th></th>\n",
       "      <th>age</th>\n",
       "      <th>cp</th>\n",
       "      <th>id</th>\n",
       "      <th>name</th>\n",
       "      <th>sex</th>\n",
       "    </tr>\n",
       "  </thead>\n",
       "  <tbody>\n",
       "    <tr>\n",
       "      <th>a</th>\n",
       "      <td>20</td>\n",
       "      <td>lm</td>\n",
       "      <td>0</td>\n",
       "      <td>lxh</td>\n",
       "      <td>0</td>\n",
       "    </tr>\n",
       "    <tr>\n",
       "      <th>b</th>\n",
       "      <td>40</td>\n",
       "      <td>ly</td>\n",
       "      <td>1</td>\n",
       "      <td>xiao</td>\n",
       "      <td>1</td>\n",
       "    </tr>\n",
       "  </tbody>\n",
       "</table>\n",
       "</div>"
      ],
      "text/plain": [
       "   age  cp  id  name  sex\n",
       "a   20  lm   0   lxh    0\n",
       "b   40  ly   1  xiao    1"
      ]
     },
     "execution_count": 11,
     "metadata": {},
     "output_type": "execute_result"
    }
   ],
   "source": [
    "data.join(data1,how='inner') #内连接"
   ]
  },
  {
   "cell_type": "code",
   "execution_count": 12,
   "metadata": {
    "collapsed": false
   },
   "outputs": [
    {
     "data": {
      "text/html": [
       "<div>\n",
       "<table border=\"1\" class=\"dataframe\">\n",
       "  <thead>\n",
       "    <tr style=\"text-align: right;\">\n",
       "      <th></th>\n",
       "      <th>age</th>\n",
       "      <th>cp</th>\n",
       "      <th>id</th>\n",
       "      <th>name</th>\n",
       "      <th>sex</th>\n",
       "    </tr>\n",
       "  </thead>\n",
       "  <tbody>\n",
       "    <tr>\n",
       "      <th>a</th>\n",
       "      <td>20.0</td>\n",
       "      <td>lm</td>\n",
       "      <td>0.0</td>\n",
       "      <td>lxh</td>\n",
       "      <td>0.0</td>\n",
       "    </tr>\n",
       "    <tr>\n",
       "      <th>b</th>\n",
       "      <td>40.0</td>\n",
       "      <td>ly</td>\n",
       "      <td>1.0</td>\n",
       "      <td>xiao</td>\n",
       "      <td>1.0</td>\n",
       "    </tr>\n",
       "    <tr>\n",
       "      <th>c</th>\n",
       "      <td>4.0</td>\n",
       "      <td>yry</td>\n",
       "      <td>2.0</td>\n",
       "      <td>hua</td>\n",
       "      <td>NaN</td>\n",
       "    </tr>\n",
       "    <tr>\n",
       "      <th>d</th>\n",
       "      <td>70.0</td>\n",
       "      <td>old</td>\n",
       "      <td>3.0</td>\n",
       "      <td>be</td>\n",
       "      <td>NaN</td>\n",
       "    </tr>\n",
       "    <tr>\n",
       "      <th>e</th>\n",
       "      <td>NaN</td>\n",
       "      <td>NaN</td>\n",
       "      <td>NaN</td>\n",
       "      <td>NaN</td>\n",
       "      <td>2.0</td>\n",
       "    </tr>\n",
       "  </tbody>\n",
       "</table>\n",
       "</div>"
      ],
      "text/plain": [
       "    age   cp   id  name  sex\n",
       "a  20.0   lm  0.0   lxh  0.0\n",
       "b  40.0   ly  1.0  xiao  1.0\n",
       "c   4.0  yry  2.0   hua  NaN\n",
       "d  70.0  old  3.0    be  NaN\n",
       "e   NaN  NaN  NaN   NaN  2.0"
      ]
     },
     "execution_count": 12,
     "metadata": {},
     "output_type": "execute_result"
    }
   ],
   "source": [
    "data.join(data1,how='outer') #外连接"
   ]
  }
 ],
 "metadata": {
  "kernelspec": {
   "display_name": "Python 2",
   "language": "python",
   "name": "python2"
  },
  "language_info": {
   "codemirror_mode": {
    "name": "ipython",
    "version": 2
   },
   "file_extension": ".py",
   "mimetype": "text/x-python",
   "name": "python",
   "nbconvert_exporter": "python",
   "pygments_lexer": "ipython2",
   "version": "2.7.11"
  }
 },
 "nbformat": 4,
 "nbformat_minor": 0
}
