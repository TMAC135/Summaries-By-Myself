{
 "cells": [
  {
   "cell_type": "code",
   "execution_count": 1,
   "metadata": {
    "collapsed": true
   },
   "outputs": [],
   "source": [
    "import numpy as np"
   ]
  },
  {
   "cell_type": "code",
   "execution_count": 14,
   "metadata": {
    "collapsed": false
   },
   "outputs": [
    {
     "name": "stdout",
     "output_type": "stream",
     "text": [
      "[0 1 2 3 4 5 6 7 8 9]\n",
      "[10 11 12 13 14 15 16 17 18 19]\n"
     ]
    }
   ],
   "source": [
    "'''\n",
    "二进制格式保存和存取文件\n",
    "np.save():自动保存的文件后缀名是.npy\n",
    "np.load(),\n",
    "\n",
    "'''\n",
    "#保存\n",
    "x = np.arange(10)\n",
    "np.save('local_text',x)\n",
    "#读取\n",
    "load = np.load('local_text.npy')\n",
    "# 可以将多个数组压缩到一个文件,此时存贮的是key-value 对，key我们制定，value就是要保存的数据=>np.savez(),后缀名是.npz\n",
    "y = np.arange(10,20)\n",
    "np.savez('local_text.npz',a=x,b=y)\n",
    "load = np.load('local_text.npz')\n",
    "print load['a']\n",
    "print load['b']"
   ]
  },
  {
   "cell_type": "code",
   "execution_count": 32,
   "metadata": {
    "collapsed": false
   },
   "outputs": [
    {
     "name": "stdout",
     "output_type": "stream",
     "text": [
      "[[ 0  1  2  3]\n",
      " [ 4  5  6  7]\n",
      " [ 8  9 10 11]\n",
      " [12 13 14 15]] \n",
      "\n",
      "(array([[-0.09184212, -0.83160389,  0.53515573,  0.11665482],\n",
      "       [-0.31812733, -0.44586433, -0.80049034,  0.24334177],\n",
      "       [-0.54441254, -0.06012478, -0.00448651, -0.836648  ],\n",
      "       [-0.77069775,  0.32561478,  0.26982112,  0.47665141]]), array([  3.51399637e+01,   2.27661021e+00,   1.69970911e-15,\n",
      "         8.07447880e-17]), array([[-0.42334086, -0.47243254, -0.52152422, -0.57061589],\n",
      "       [ 0.72165263,  0.27714165, -0.16736932, -0.6118803 ],\n",
      "       [-0.22125808,  0.66846675, -0.67315927,  0.2259506 ],\n",
      "       [ 0.50104377, -0.50314233, -0.49684666,  0.49894522]])) \n",
      "\n",
      "(array([ 0.175,  0.1  ,  0.025, -0.05 ]), array([], dtype=float64), 2, array([  3.51399637e+01,   2.27661021e+00,   1.69970911e-15,\n",
      "         8.07447880e-17])) \n",
      "\n",
      "[ 0.  1.  2.]\n"
     ]
    }
   ],
   "source": [
    "'''\n",
    "Numpy.linalg 包中的常用函数：\n",
    "diag(),dot(),trace(),det(),eig(),inv(),\n",
    "pinv(): 矩阵的Moore-Penrose 伪逆\n",
    "qr(0: QR分解\n",
    "svd(): SVD分解\n",
    "solve():解决线性方程，其中Ax=B,A为方阵\n",
    "lstsq(): Ax=b的最小二乘解\n",
    "'''\n",
    "import numpy.linalg as lin\n",
    "A = np.arange(16).reshape(4,4)\n",
    "print A,'\\n'\n",
    "print lin.svd(A),'\\n'\n",
    "print lin.lstsq(A,np.arange(4)),'\\n'\n",
    "print lin.solve(np.eye(3),np.arange(3)) #注意此时A必须是可逆的"
   ]
  },
  {
   "cell_type": "code",
   "execution_count": 51,
   "metadata": {
    "collapsed": false
   },
   "outputs": [
    {
     "name": "stdout",
     "output_type": "stream",
     "text": [
      "[3 4 1 2] \n",
      "\n",
      "[[ 0.79704955  0.99052632  0.52892543  0.9958531   0.3648828   0.2692635 ]\n",
      " [ 0.46947302  0.28754793  0.15175711  0.23743285  0.54757201  0.51038284]]\n",
      "[[3 9 6]\n",
      " [2 5 5]\n",
      " [9 9 3]]\n"
     ]
    }
   ],
   "source": [
    "'''\n",
    "numpy.random 的常用函数\n",
    "permutation(), shuffle(),\n",
    "rand():均匀分布\n",
    "randint():给丁上下届范围的整数\n",
    "randn()：标准正太分布\n",
    "normal(): 正太分布\n",
    "beta(), chisquare(),gamma()\n",
    "'''\n",
    "import numpy.random as npr\n",
    "print npr.permutation(np.array([1,2,3,4])),'\\n'\n",
    "print npr.rand(2,6)\n",
    "print npr.randint(2,10,size=(3,3)) #随机产生一个2～10的整数"
   ]
  }
 ],
 "metadata": {
  "kernelspec": {
   "display_name": "Python 2",
   "language": "python",
   "name": "python2"
  },
  "language_info": {
   "codemirror_mode": {
    "name": "ipython",
    "version": 2
   },
   "file_extension": ".py",
   "mimetype": "text/x-python",
   "name": "python",
   "nbconvert_exporter": "python",
   "pygments_lexer": "ipython2",
   "version": "2.7.10"
  }
 },
 "nbformat": 4,
 "nbformat_minor": 0
}
