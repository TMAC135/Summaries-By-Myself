{
 "cells": [
  {
   "cell_type": "code",
   "execution_count": 1,
   "metadata": {
    "collapsed": true
   },
   "outputs": [],
   "source": [
    "import numpy as np"
   ]
  },
  {
   "cell_type": "code",
   "execution_count": 14,
   "metadata": {
    "collapsed": false
   },
   "outputs": [
    {
     "name": "stdout",
     "output_type": "stream",
     "text": [
      "[0 1 2 3 4 5 6 7 8 9]\n",
      "[10 11 12 13 14 15 16 17 18 19]\n"
     ]
    }
   ],
   "source": [
    "'''\n",
    "二进制格式保存和存取文件\n",
    "np.save():自动保存的文件后缀名是.npy\n",
    "np.load(),\n",
    "\n",
    "'''\n",
    "#保存\n",
    "x = np.arange(10)\n",
    "np.save('local_text',x)\n",
    "#读取\n",
    "load = np.load('local_text.npy')\n",
    "# 可以将多个数组压缩到一个文件,此时存贮的是key-value 对，key我们制定，value就是要保存的数据=>np.savez(),后缀名是.npz\n",
    "y = np.arange(10,20)\n",
    "np.savez('local_text.npz',a=x,b=y)\n",
    "load = np.load('local_text.npz')\n",
    "print load['a']\n",
    "print load['b']"
   ]
  },
  {
   "cell_type": "code",
   "execution_count": 32,
   "metadata": {
    "collapsed": false
   },
   "outputs": [
    {
     "name": "stdout",
     "output_type": "stream",
     "text": [
      "[[ 0  1  2  3]\n",
      " [ 4  5  6  7]\n",
      " [ 8  9 10 11]\n",
      " [12 13 14 15]] \n",
      "\n",
      "(array([[-0.09184212, -0.83160389,  0.53515573,  0.11665482],\n",
      "       [-0.31812733, -0.44586433, -0.80049034,  0.24334177],\n",
      "       [-0.54441254, -0.06012478, -0.00448651, -0.836648  ],\n",
      "       [-0.77069775,  0.32561478,  0.26982112,  0.47665141]]), array([  3.51399637e+01,   2.27661021e+00,   1.69970911e-15,\n",
      "         8.07447880e-17]), array([[-0.42334086, -0.47243254, -0.52152422, -0.57061589],\n",
      "       [ 0.72165263,  0.27714165, -0.16736932, -0.6118803 ],\n",
      "       [-0.22125808,  0.66846675, -0.67315927,  0.2259506 ],\n",
      "       [ 0.50104377, -0.50314233, -0.49684666,  0.49894522]])) \n",
      "\n",
      "(array([ 0.175,  0.1  ,  0.025, -0.05 ]), array([], dtype=float64), 2, array([  3.51399637e+01,   2.27661021e+00,   1.69970911e-15,\n",
      "         8.07447880e-17])) \n",
      "\n",
      "[ 0.  1.  2.]\n"
     ]
    }
   ],
   "source": [
    "'''\n",
    "Numpy.linalg 包中的常用函数：\n",
    "diag(),dot(),trace(),det(),eig(),inv(),\n",
    "pinv(): 矩阵的Moore-Penrose 伪逆\n",
    "qr(0: QR分解\n",
    "svd(): SVD分解\n",
    "solve():解决线性方程，其中Ax=B,A为方阵\n",
    "lstsq(): Ax=b的最小二乘解\n",
    "'''\n",
    "import numpy.linalg as lin\n",
    "A = np.arange(16).reshape(4,4)\n",
    "print A,'\\n'\n",
    "print lin.svd(A),'\\n'\n",
    "print lin.lstsq(A,np.arange(4)),'\\n'\n",
    "print lin.solve(np.eye(3),np.arange(3)) #注意此时A必须是可逆的"
   ]
  },
  {
   "cell_type": "code",
   "execution_count": 2,
   "metadata": {
    "collapsed": false
   },
   "outputs": [
    {
     "name": "stdout",
     "output_type": "stream",
     "text": [
      "[2 4 1 3] \n",
      "\n",
      "[[ 0.44361027  0.75286941  0.87531072  0.73828937  0.14678917  0.38214214]\n",
      " [ 0.40170213  0.75152173  0.53861686  0.50856886  0.53514185  0.2845727 ]]\n",
      "[[5 6 2]\n",
      " [8 7 6]\n",
      " [6 2 4]]\n"
     ]
    }
   ],
   "source": [
    "'''\n",
    "numpy.random 的常用函数\n",
    "permutation(), shuffle(),\n",
    "rand():均匀分布\n",
    "randint():给丁上下届范围的整数\n",
    "randn()：标准正太分布\n",
    "normal(): 正太分布\n",
    "beta(), chisquare(),gamma()\n",
    "'''\n",
    "import numpy.random as npr\n",
    "print npr.permutation(np.array([1,2,3,4])),'\\n'\n",
    "print npr.rand(2,6)\n",
    "print npr.randint(2,10,size=(3,3)) #随机产生一个2～10的整数"
   ]
  },
  {
   "cell_type": "code",
   "execution_count": 7,
   "metadata": {
    "collapsed": false
   },
   "outputs": [
    {
     "name": "stdout",
     "output_type": "stream",
     "text": [
      "在axis = 0上repeat\n",
      "[[-1.73603124 -0.49231962]\n",
      " [-1.73603124 -0.49231962]\n",
      " [-0.1864511   0.54319105]\n",
      " [ 0.65383795  0.28602657]\n",
      " [ 0.65383795  0.28602657]] \n",
      "\n",
      "在axis = 0上repeat\n",
      "[[-1.73603124 -1.73603124 -0.49231962]\n",
      " [-0.1864511  -0.1864511   0.54319105]\n",
      " [ 0.65383795  0.65383795  0.28602657]] \n",
      "\n",
      "=================\n",
      "将3*2数组的块转换成2*1\n",
      "[[-1.73603124 -0.49231962]\n",
      " [-0.1864511   0.54319105]\n",
      " [ 0.65383795  0.28602657]\n",
      " [-1.73603124 -0.49231962]\n",
      " [-0.1864511   0.54319105]\n",
      " [ 0.65383795  0.28602657]] \n",
      "\n",
      "将3*2数组的块转换成3*2\n",
      "[[-1.73603124 -0.49231962 -1.73603124 -0.49231962]\n",
      " [-0.1864511   0.54319105 -0.1864511   0.54319105]\n",
      " [ 0.65383795  0.28602657  0.65383795  0.28602657]\n",
      " [-1.73603124 -0.49231962 -1.73603124 -0.49231962]\n",
      " [-0.1864511   0.54319105 -0.1864511   0.54319105]\n",
      " [ 0.65383795  0.28602657  0.65383795  0.28602657]\n",
      " [-1.73603124 -0.49231962 -1.73603124 -0.49231962]\n",
      " [-0.1864511   0.54319105 -0.1864511   0.54319105]\n",
      " [ 0.65383795  0.28602657  0.65383795  0.28602657]] \n",
      "\n"
     ]
    }
   ],
   "source": [
    "'''\n",
    "numpy 的repeat 和tile的区别：\n",
    "repeat 是复制每一个元素，tile类似贴瓷砖，将原数组叠加\n",
    "'''\n",
    "x = np.random.randn(3,2)\n",
    "print '在axis = 0上repeat'\n",
    "print x.repeat((2,1,2),axis=0),'\\n'\n",
    "print '在axis = 0上repeat'\n",
    "print x.repeat((2,1),axis=1),'\\n'\n",
    "\n",
    "print '================='\n",
    "print '将3*2数组的块转换成2*1'\n",
    "print np.tile(x,(2,1)),'\\n'\n",
    "print '将3*2数组的块转换成3*2'\n",
    "print np.tile(x,(3,2)),'\\n'"
   ]
  },
  {
   "cell_type": "code",
   "execution_count": 2,
   "metadata": {
    "collapsed": false
   },
   "outputs": [
    {
     "name": "stdout",
     "output_type": "stream",
     "text": [
      "[[ 1.01796405 -0.92267899]\n",
      " [-0.6160156  -0.33157541]\n",
      " [-0.87819031 -1.91307344]]\n",
      "[[-1.84506886 -0.676116  ]\n",
      " [-2.33951832  0.35741981]\n",
      " [-1.96390415 -0.47755688]]\n",
      "--------hstack-----------\n",
      "[[ 1.01796405 -0.92267899 -1.84506886 -0.676116  ]\n",
      " [-0.6160156  -0.33157541 -2.33951832  0.35741981]\n",
      " [-0.87819031 -1.91307344 -1.96390415 -0.47755688]]\n",
      "--------vstack-----------\n",
      "[[ 1.01796405 -0.92267899]\n",
      " [-0.6160156  -0.33157541]\n",
      " [-0.87819031 -1.91307344]\n",
      " [-1.84506886 -0.676116  ]\n",
      " [-2.33951832  0.35741981]\n",
      " [-1.96390415 -0.47755688]]\n"
     ]
    }
   ],
   "source": [
    "'''\n",
    "numpy 的vstack 和hstack：注意输入的是两个数组的一个元组，即np.hstack((y,z))\n",
    "'''\n",
    "y = np.random.randn(3,2)\n",
    "z = np.random.randn(3,2)\n",
    "print y\n",
    "print z\n",
    "print '--------hstack-----------'\n",
    "print np.hstack((y,z))\n",
    "print '--------vstack-----------'\n",
    "print np.vstack((y,z))"
   ]
  },
  {
   "cell_type": "code",
   "execution_count": 12,
   "metadata": {
    "collapsed": false
   },
   "outputs": [
    {
     "name": "stdout",
     "output_type": "stream",
     "text": [
      "index is [2,4]\n",
      "[2 4]\n",
      "put [11,12] on index [0,1]\n",
      "[11 12  2  3  4]\n",
      "==================\n",
      "original array\n",
      "[[ 0  1  2  3]\n",
      " [ 4  5  6  7]\n",
      " [ 8  9 10 11]]\n",
      "axis = 0, index=[1,3,1,3]\n",
      "[1 3 1 3]\n",
      "axis = 1, index=[1,3,1,3]\n",
      "[[ 1  3  1  3]\n",
      " [ 5  7  5  7]\n",
      " [ 9 11  9 11]]\n"
     ]
    }
   ],
   "source": [
    "'''\n",
    "numpy 中得花式索引：take 和put\n",
    "'''\n",
    "#一维\n",
    "x = np.arange(5)\n",
    "print 'index is [2,4]'\n",
    "print x.take([2,4])\n",
    "print 'put [11,12] on index [0,1]'\n",
    "x.put([0,1],[11,12])\n",
    "print x\n",
    "print '=================='\n",
    "#二维, 可以自定义轴\n",
    "print 'original array'\n",
    "y = np.arange(12).reshape(3,4)\n",
    "print y\n",
    "print 'axis = 0, index=[1,3,1,3]'\n",
    "print y.take([1,3,1,3])\n",
    "print 'axis = 1, index=[1,3,1,3]'\n",
    "print y.take([1,3,1,3],axis=1)"
   ]
  },
  {
   "cell_type": "code",
   "execution_count": null,
   "metadata": {
    "collapsed": true
   },
   "outputs": [],
   "source": []
  }
 ],
 "metadata": {
  "kernelspec": {
   "display_name": "Python 2",
   "language": "python",
   "name": "python2"
  },
  "language_info": {
   "codemirror_mode": {
    "name": "ipython",
    "version": 2
   },
   "file_extension": ".py",
   "mimetype": "text/x-python",
   "name": "python",
   "nbconvert_exporter": "python",
   "pygments_lexer": "ipython2",
   "version": "2.7.10"
  }
 },
 "nbformat": 4,
 "nbformat_minor": 0
}
