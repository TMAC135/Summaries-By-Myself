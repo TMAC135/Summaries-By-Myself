{
 "cells": [
  {
   "cell_type": "code",
   "execution_count": 2,
   "metadata": {
    "collapsed": true
   },
   "outputs": [],
   "source": [
    "import scipy as sci\n",
    "import numpy as np"
   ]
  },
  {
   "cell_type": "code",
   "execution_count": 3,
   "metadata": {
    "collapsed": false
   },
   "outputs": [
    {
     "name": "stdout",
     "output_type": "stream",
     "text": [
      "[ 3.  5.  9.]\n"
     ]
    }
   ],
   "source": [
    "# solve the nonliner functions\n",
    "'''\n",
    "5*x1 -25=0\n",
    "5*x0*x0 - x1*x2=0\n",
    "x2*x0 - 27=0\n",
    "'''\n",
    "from scipy.optimize import fsolve\n",
    "def func(x):\n",
    "    x0,x1,x2 = x.tolist()\n",
    "    return [\n",
    "        5*x1 -25,\n",
    "        5*x0*x0 - x1*x2,\n",
    "        x2*x0 - 27\n",
    "    ]\n",
    "print fsolve(func,[1,1,1])"
   ]
  },
  {
   "cell_type": "code",
   "execution_count": 4,
   "metadata": {
    "collapsed": false
   },
   "outputs": [
    {
     "name": "stdout",
     "output_type": "stream",
     "text": [
      "p is:\n",
      "1.57079632679\n",
      "error is:\n",
      "1.00023545002e-09\n"
     ]
    }
   ],
   "source": [
    "#how to compute the integration\n",
    "'''\n",
    "compute the area of the semi-circle\n",
    "\n",
    "y=(1-x*x)**(0.5)\n",
    "integrate.quad(func,-1,1)\n",
    "if you want the double integrate and triple integrate,use dblquad(func,-1,1), tplquad(func)\n",
    "'''\n",
    "def func(x):\n",
    "    return (1-x*x)**0.5\n",
    "\n",
    "from scipy import integrate\n",
    "p,err = integrate.quad(func,-1,1)\n",
    "print 'p is:'\n",
    "print p\n",
    "print 'error is:'\n",
    "print err\n",
    "\n",
    "\n"
   ]
  },
  {
   "cell_type": "code",
   "execution_count": null,
   "metadata": {
    "collapsed": true
   },
   "outputs": [],
   "source": []
  }
 ],
 "metadata": {
  "kernelspec": {
   "display_name": "Python 2",
   "language": "python",
   "name": "python2"
  },
  "language_info": {
   "codemirror_mode": {
    "name": "ipython",
    "version": 2
   },
   "file_extension": ".py",
   "mimetype": "text/x-python",
   "name": "python",
   "nbconvert_exporter": "python",
   "pygments_lexer": "ipython2",
   "version": "2.7.10"
  }
 },
 "nbformat": 4,
 "nbformat_minor": 0
}
