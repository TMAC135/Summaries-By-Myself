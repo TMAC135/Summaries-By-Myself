{
 "cells": [
  {
   "cell_type": "code",
   "execution_count": 16,
   "metadata": {
    "collapsed": true
   },
   "outputs": [],
   "source": [
    "import numpy as np\n",
    "a1 = np.arange(6).reshape(2,3)\n",
    "a2 = np.arange(6,12).reshape(2,3)"
   ]
  },
  {
   "cell_type": "code",
   "execution_count": 3,
   "metadata": {
    "collapsed": false
   },
   "outputs": [
    {
     "data": {
      "text/plain": [
       "array([[0, 1, 2],\n",
       "       [3, 4, 5]])"
      ]
     },
     "execution_count": 3,
     "metadata": {},
     "output_type": "execute_result"
    }
   ],
   "source": [
    "a1"
   ]
  },
  {
   "cell_type": "code",
   "execution_count": 4,
   "metadata": {
    "collapsed": false
   },
   "outputs": [
    {
     "data": {
      "text/plain": [
       "array([[ 6,  7,  8],\n",
       "       [ 9, 10, 11]])"
      ]
     },
     "execution_count": 4,
     "metadata": {},
     "output_type": "execute_result"
    }
   ],
   "source": [
    "a2"
   ]
  },
  {
   "cell_type": "code",
   "execution_count": 5,
   "metadata": {
    "collapsed": false
   },
   "outputs": [
    {
     "name": "stdout",
     "output_type": "stream",
     "text": [
      "[[ 6  8 10]\n",
      " [12 14 16]]\n",
      "[[-6 -6 -6]\n",
      " [-6 -6 -6]]\n",
      "[[ 0  7 16]\n",
      " [27 40 55]]\n",
      "[[0 0 0]\n",
      " [0 0 0]]\n"
     ]
    }
   ],
   "source": [
    "# the +,-,*,/ operations are based on each element\n",
    "print a1+a2\n",
    "print a1-a2\n",
    "print a1*a2\n",
    "print a1/a2"
   ]
  },
  {
   "cell_type": "code",
   "execution_count": 7,
   "metadata": {
    "collapsed": false
   },
   "outputs": [
    {
     "data": {
      "text/plain": [
       "array([[0, 1, 2],\n",
       "       [3, 4, 5]])"
      ]
     },
     "execution_count": 7,
     "metadata": {},
     "output_type": "execute_result"
    }
   ],
   "source": [
    "# auto complete when the size is negative\n",
    "a1.shape = 2,-1\n",
    "a1"
   ]
  },
  {
   "cell_type": "code",
   "execution_count": 17,
   "metadata": {
    "collapsed": false
   },
   "outputs": [
    {
     "name": "stdout",
     "output_type": "stream",
     "text": [
      "[[100   1   2   3   4   5]]\n",
      "[[100   1   2]\n",
      " [  3   4   5]]\n"
     ]
    }
   ],
   "source": [
    "a11=a1.reshape(1,6)\n",
    "a11[0][0]=100\n",
    "# share the same memory since the immutable type of the int\n",
    "print a11\n",
    "print a1"
   ]
  },
  {
   "cell_type": "code",
   "execution_count": 21,
   "metadata": {
    "collapsed": false
   },
   "outputs": [
    {
     "name": "stdout",
     "output_type": "stream",
     "text": [
      "[0 1 2 3 4]\n"
     ]
    }
   ],
   "source": [
    "# initiliza the array with given data type\n",
    "a=np.array(range(5),dtype=int)\n",
    "print a"
   ]
  },
  {
   "cell_type": "code",
   "execution_count": 26,
   "metadata": {
    "collapsed": false
   },
   "outputs": [
    {
     "name": "stdout",
     "output_type": "stream",
     "text": [
      "[('name', 'S32'), ('age', '<i4')]\n",
      "[('tom', 12)]\n",
      "('tom', 12)\n",
      "tom\n",
      "12\n"
     ]
    }
   ],
   "source": [
    "#self define the data type\n",
    "person = np.dtype({'names':['name','age'],'formats':['S32','i']})\n",
    "print person\n",
    "a=np.array([('tom',12)],dtype=person)\n",
    "print a\n",
    "print a[0]\n",
    "print a[0]['name']\n",
    "print a[0]['age']"
   ]
  },
  {
   "cell_type": "code",
   "execution_count": 33,
   "metadata": {
    "collapsed": false
   },
   "outputs": [
    {
     "name": "stdout",
     "output_type": "stream",
     "text": [
      "a is:\n",
      "\n",
      "[[[ 0  1]\n",
      "  [ 2  3]\n",
      "  [ 4  5]]\n",
      "\n",
      " [[ 6  7]\n",
      "  [ 8  9]\n",
      "  [10 11]]]\n",
      "b is:\n",
      "\n",
      "[[[12 13 14]\n",
      "  [15 16 17]]\n",
      "\n",
      " [[18 19 20]\n",
      "  [21 22 23]]]\n",
      "result is:\n",
      "\n",
      "[[[[ 15  16  17]\n",
      "   [ 21  22  23]]\n",
      "\n",
      "  [[ 69  74  79]\n",
      "   [ 99 104 109]]\n",
      "\n",
      "  [[123 132 141]\n",
      "   [177 186 195]]]\n",
      "\n",
      "\n",
      " [[[177 190 203]\n",
      "   [255 268 281]]\n",
      "\n",
      "  [[231 248 265]\n",
      "   [333 350 367]]\n",
      "\n",
      "  [[285 306 327]\n",
      "   [411 432 453]]]]\n"
     ]
    }
   ],
   "source": [
    "# dot operation\n",
    "a = np.arange(12).reshape(2,3,2)\n",
    "print 'a is:\\n'\n",
    "print a\n",
    "b = np.arange(12,24).reshape(2,2,3)\n",
    "print 'b is:\\n'\n",
    "print b\n",
    "print 'result is:\\n'\n",
    "print np.dot(a,b)#the result is 3*2*3\n"
   ]
  },
  {
   "cell_type": "code",
   "execution_count": 37,
   "metadata": {
    "collapsed": false
   },
   "outputs": [
    {
     "name": "stdout",
     "output_type": "stream",
     "text": [
      "x is:\n",
      "[[ 0  1  2  3]\n",
      " [ 4  5  6  7]\n",
      " [ 8  9 10 11]]\n",
      "y is:\n",
      "[[12 13 14 15]\n",
      " [16 17 18 19]\n",
      " [20 21 22 23]]\n",
      "inner result is:\n",
      "[[ 86 110 134]\n",
      " [302 390 478]\n",
      " [518 670 822]]\n",
      "outer result is:\n",
      "[[  0   0   0   0   0   0   0   0   0   0   0   0]\n",
      " [ 12  13  14  15  16  17  18  19  20  21  22  23]\n",
      " [ 24  26  28  30  32  34  36  38  40  42  44  46]\n",
      " [ 36  39  42  45  48  51  54  57  60  63  66  69]\n",
      " [ 48  52  56  60  64  68  72  76  80  84  88  92]\n",
      " [ 60  65  70  75  80  85  90  95 100 105 110 115]\n",
      " [ 72  78  84  90  96 102 108 114 120 126 132 138]\n",
      " [ 84  91  98 105 112 119 126 133 140 147 154 161]\n",
      " [ 96 104 112 120 128 136 144 152 160 168 176 184]\n",
      " [108 117 126 135 144 153 162 171 180 189 198 207]\n",
      " [120 130 140 150 160 170 180 190 200 210 220 230]\n",
      " [132 143 154 165 176 187 198 209 220 231 242 253]]\n"
     ]
    }
   ],
   "source": [
    "# innner &outer product\n",
    "x = np.arange(12).reshape(3,4)\n",
    "print 'x is:'\n",
    "print x\n",
    "y = np.arange(12,24).reshape(3,4)\n",
    "print 'y is:'\n",
    "print y\n",
    "\n",
    "print 'inner result is:'\n",
    "print np.inner(x,y)\n",
    "print 'outer result is:'\n",
    "print np.outer(x,y)\n"
   ]
  },
  {
   "cell_type": "code",
   "execution_count": null,
   "metadata": {
    "collapsed": true
   },
   "outputs": [],
   "source": []
  }
 ],
 "metadata": {
  "kernelspec": {
   "display_name": "Python 2",
   "language": "python",
   "name": "python2"
  },
  "language_info": {
   "codemirror_mode": {
    "name": "ipython",
    "version": 2
   },
   "file_extension": ".py",
   "mimetype": "text/x-python",
   "name": "python",
   "nbconvert_exporter": "python",
   "pygments_lexer": "ipython2",
   "version": "2.7.10"
  }
 },
 "nbformat": 4,
 "nbformat_minor": 0
}
