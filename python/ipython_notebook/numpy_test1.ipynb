{
 "cells": [
  {
   "cell_type": "code",
   "execution_count": 1,
   "metadata": {
    "collapsed": true
   },
   "outputs": [],
   "source": [
    "import numpy as np\n",
    "a1 = np.arange(6).reshape(2,3)\n",
    "a2 = np.arange(6,12).reshape(2,3)"
   ]
  },
  {
   "cell_type": "code",
   "execution_count": 3,
   "metadata": {
    "collapsed": false
   },
   "outputs": [
    {
     "data": {
      "text/plain": [
       "array([[0, 1, 2],\n",
       "       [3, 4, 5]])"
      ]
     },
     "execution_count": 3,
     "metadata": {},
     "output_type": "execute_result"
    }
   ],
   "source": [
    "a1"
   ]
  },
  {
   "cell_type": "code",
   "execution_count": 4,
   "metadata": {
    "collapsed": false
   },
   "outputs": [
    {
     "data": {
      "text/plain": [
       "array([[ 6,  7,  8],\n",
       "       [ 9, 10, 11]])"
      ]
     },
     "execution_count": 4,
     "metadata": {},
     "output_type": "execute_result"
    }
   ],
   "source": [
    "a2"
   ]
  },
  {
   "cell_type": "code",
   "execution_count": 5,
   "metadata": {
    "collapsed": false
   },
   "outputs": [
    {
     "name": "stdout",
     "output_type": "stream",
     "text": [
      "[[ 6  8 10]\n",
      " [12 14 16]]\n",
      "[[-6 -6 -6]\n",
      " [-6 -6 -6]]\n",
      "[[ 0  7 16]\n",
      " [27 40 55]]\n",
      "[[0 0 0]\n",
      " [0 0 0]]\n"
     ]
    }
   ],
   "source": [
    "# the +,-,*,/ operations are based on each element\n",
    "print a1+a2\n",
    "print a1-a2\n",
    "print a1*a2\n",
    "print a1/a2"
   ]
  },
  {
   "cell_type": "code",
   "execution_count": 7,
   "metadata": {
    "collapsed": false
   },
   "outputs": [
    {
     "data": {
      "text/plain": [
       "array([[0, 1, 2],\n",
       "       [3, 4, 5]])"
      ]
     },
     "execution_count": 7,
     "metadata": {},
     "output_type": "execute_result"
    }
   ],
   "source": [
    "# auto complete when the size is negative\n",
    "a1.shape = 2,-1\n",
    "a1"
   ]
  },
  {
   "cell_type": "code",
   "execution_count": 17,
   "metadata": {
    "collapsed": false
   },
   "outputs": [
    {
     "name": "stdout",
     "output_type": "stream",
     "text": [
      "[[100   1   2   3   4   5]]\n",
      "[[100   1   2]\n",
      " [  3   4   5]]\n"
     ]
    }
   ],
   "source": [
    "a11=a1.reshape(1,6)\n",
    "a11[0][0]=100\n",
    "# share the same memory since the immutable type of the int\n",
    "print a11\n",
    "print a1"
   ]
  },
  {
   "cell_type": "code",
   "execution_count": 21,
   "metadata": {
    "collapsed": false
   },
   "outputs": [
    {
     "name": "stdout",
     "output_type": "stream",
     "text": [
      "[0 1 2 3 4]\n"
     ]
    }
   ],
   "source": [
    "# initiliza the array with given data type\n",
    "a=np.array(range(5),dtype=int)\n",
    "print a"
   ]
  },
  {
   "cell_type": "code",
   "execution_count": 26,
   "metadata": {
    "collapsed": false
   },
   "outputs": [
    {
     "name": "stdout",
     "output_type": "stream",
     "text": [
      "[('name', 'S32'), ('age', '<i4')]\n",
      "[('tom', 12)]\n",
      "('tom', 12)\n",
      "tom\n",
      "12\n"
     ]
    }
   ],
   "source": [
    "#self define the data type\n",
    "person = np.dtype({'names':['name','age'],'formats':['S32','i']})\n",
    "print person\n",
    "a=np.array([('tom',12)],dtype=person)\n",
    "print a\n",
    "print a[0]\n",
    "print a[0]['name']\n",
    "print a[0]['age']"
   ]
  },
  {
   "cell_type": "code",
   "execution_count": 33,
   "metadata": {
    "collapsed": false
   },
   "outputs": [
    {
     "name": "stdout",
     "output_type": "stream",
     "text": [
      "a is:\n",
      "\n",
      "[[[ 0  1]\n",
      "  [ 2  3]\n",
      "  [ 4  5]]\n",
      "\n",
      " [[ 6  7]\n",
      "  [ 8  9]\n",
      "  [10 11]]]\n",
      "b is:\n",
      "\n",
      "[[[12 13 14]\n",
      "  [15 16 17]]\n",
      "\n",
      " [[18 19 20]\n",
      "  [21 22 23]]]\n",
      "result is:\n",
      "\n",
      "[[[[ 15  16  17]\n",
      "   [ 21  22  23]]\n",
      "\n",
      "  [[ 69  74  79]\n",
      "   [ 99 104 109]]\n",
      "\n",
      "  [[123 132 141]\n",
      "   [177 186 195]]]\n",
      "\n",
      "\n",
      " [[[177 190 203]\n",
      "   [255 268 281]]\n",
      "\n",
      "  [[231 248 265]\n",
      "   [333 350 367]]\n",
      "\n",
      "  [[285 306 327]\n",
      "   [411 432 453]]]]\n"
     ]
    }
   ],
   "source": [
    "# dot operation\n",
    "a = np.arange(12).reshape(2,3,2)\n",
    "print 'a is:\\n'\n",
    "print a\n",
    "b = np.arange(12,24).reshape(2,2,3)\n",
    "print 'b is:\\n'\n",
    "print b\n",
    "print 'result is:\\n'\n",
    "print np.dot(a,b)#the result is 3*2*3\n"
   ]
  },
  {
   "cell_type": "code",
   "execution_count": 37,
   "metadata": {
    "collapsed": false
   },
   "outputs": [
    {
     "name": "stdout",
     "output_type": "stream",
     "text": [
      "x is:\n",
      "[[ 0  1  2  3]\n",
      " [ 4  5  6  7]\n",
      " [ 8  9 10 11]]\n",
      "y is:\n",
      "[[12 13 14 15]\n",
      " [16 17 18 19]\n",
      " [20 21 22 23]]\n",
      "inner result is:\n",
      "[[ 86 110 134]\n",
      " [302 390 478]\n",
      " [518 670 822]]\n",
      "outer result is:\n",
      "[[  0   0   0   0   0   0   0   0   0   0   0   0]\n",
      " [ 12  13  14  15  16  17  18  19  20  21  22  23]\n",
      " [ 24  26  28  30  32  34  36  38  40  42  44  46]\n",
      " [ 36  39  42  45  48  51  54  57  60  63  66  69]\n",
      " [ 48  52  56  60  64  68  72  76  80  84  88  92]\n",
      " [ 60  65  70  75  80  85  90  95 100 105 110 115]\n",
      " [ 72  78  84  90  96 102 108 114 120 126 132 138]\n",
      " [ 84  91  98 105 112 119 126 133 140 147 154 161]\n",
      " [ 96 104 112 120 128 136 144 152 160 168 176 184]\n",
      " [108 117 126 135 144 153 162 171 180 189 198 207]\n",
      " [120 130 140 150 160 170 180 190 200 210 220 230]\n",
      " [132 143 154 165 176 187 198 209 220 231 242 253]]\n"
     ]
    }
   ],
   "source": [
    "# innner &outer product\n",
    "x = np.arange(12).reshape(3,4)\n",
    "print 'x is:'\n",
    "print x\n",
    "y = np.arange(12,24).reshape(3,4)\n",
    "print 'y is:'\n",
    "print y\n",
    "\n",
    "print 'inner result is:'\n",
    "print np.inner(x,y)\n",
    "print 'outer result is:'\n",
    "print np.outer(x,y)\n"
   ]
  },
  {
   "cell_type": "code",
   "execution_count": 11,
   "metadata": {
    "collapsed": false
   },
   "outputs": [
    {
     "name": "stdout",
     "output_type": "stream",
     "text": [
      "Help on function ones_like in module numpy.core.numeric:\n",
      "\n",
      "ones_like(a, dtype=None, order='K', subok=True)\n",
      "    Return an array of ones with the same shape and type as a given array.\n",
      "    \n",
      "    Parameters\n",
      "    ----------\n",
      "    a : array_like\n",
      "        The shape and data-type of `a` define these same attributes of\n",
      "        the returned array.\n",
      "    dtype : data-type, optional\n",
      "        Overrides the data type of the result.\n",
      "    \n",
      "        .. versionadded:: 1.6.0\n",
      "    order : {'C', 'F', 'A', or 'K'}, optional\n",
      "        Overrides the memory layout of the result. 'C' means C-order,\n",
      "        'F' means F-order, 'A' means 'F' if `a` is Fortran contiguous,\n",
      "        'C' otherwise. 'K' means match the layout of `a` as closely\n",
      "        as possible.\n",
      "    \n",
      "        .. versionadded:: 1.6.0\n",
      "    subok : bool, optional.\n",
      "        If True, then the newly created array will use the sub-class\n",
      "        type of 'a', otherwise it will be a base-class array. Defaults\n",
      "        to True.\n",
      "    \n",
      "    Returns\n",
      "    -------\n",
      "    out : ndarray\n",
      "        Array of ones with the same shape and type as `a`.\n",
      "    \n",
      "    See Also\n",
      "    --------\n",
      "    zeros_like : Return an array of zeros with shape and type of input.\n",
      "    empty_like : Return an empty array with shape and type of input.\n",
      "    zeros : Return a new array setting values to zero.\n",
      "    ones : Return a new array setting values to one.\n",
      "    empty : Return a new uninitialized array.\n",
      "    \n",
      "    Examples\n",
      "    --------\n",
      "    >>> x = np.arange(6)\n",
      "    >>> x = x.reshape((2, 3))\n",
      "    >>> x\n",
      "    array([[0, 1, 2],\n",
      "           [3, 4, 5]])\n",
      "    >>> np.ones_like(x)\n",
      "    array([[1, 1, 1],\n",
      "           [1, 1, 1]])\n",
      "    \n",
      "    >>> y = np.arange(3, dtype=np.float)\n",
      "    >>> y\n",
      "    array([ 0.,  1.,  2.])\n",
      "    >>> np.ones_like(y)\n",
      "    array([ 1.,  1.,  1.])\n",
      "\n",
      "None\n",
      "==========================================\n",
      "[[ 1.  1.  1.  1.]\n",
      " [ 1.  1.  1.  1.]\n",
      " [ 1.  1.  1.  1.]\n",
      " [ 1.  1.  1.  1.]]\n",
      "==========================================\n",
      "[[ 1.  1.  1.  1.]\n",
      " [ 1.  1.  1.  1.]\n",
      " [ 1.  1.  1.  1.]\n",
      " [ 1.  1.  1.  1.]]\n"
     ]
    }
   ],
   "source": [
    "'''\n",
    "数组的几种构造方法：\n",
    "array, asarray, arrange, ones, ones_like, zeros, zeros_like, empty, empty_like, eye, identity\n",
    "'''\n",
    "I = np.eye(4)\n",
    "print help(np.ones_like)\n",
    "print \"==========================================\"\n",
    "print np.ones_like(I)\n",
    "print \"==========================================\"\n",
    "print np.empty_like(I)"
   ]
  },
  {
   "cell_type": "code",
   "execution_count": 14,
   "metadata": {
    "collapsed": false
   },
   "outputs": [
    {
     "data": {
      "text/plain": [
       "array(['\\xe4\\xbd\\xa0\\xe5\\xa5\\xbd\\xe4\\xb8\\x96\\xe7\\x95\\x8c'], \n",
       "      dtype='|S12')"
      ]
     },
     "execution_count": 14,
     "metadata": {},
     "output_type": "execute_result"
    }
   ],
   "source": [
    "'''\n",
    "numpy 中的数据类型：\n",
    "int(8/16/32/64) ,uint8(8/16/32/64); float(16/32/64/128); \n",
    "complex(64/128/256): 用两个32/64/128的浮点数表示复数\n",
    "object: python对象类型\n",
    "string_: 固定长度的字符串类型，每个字符一个字节\n",
    "unicode_: 字节数由平台决定\n",
    "\n",
    "类型的代码一般是首字母加数字，代表表示几个字节，如string 的S12表示12个字节的字符串\n",
    "'''\n",
    "unicode = np.array(['你好' '世界'],dtype=np.string_)\n",
    "unicode"
   ]
  },
  {
   "cell_type": "code",
   "execution_count": 21,
   "metadata": {
    "collapsed": false
   },
   "outputs": [
    {
     "name": "stdout",
     "output_type": "stream",
     "text": [
      "[[  0   1   2   3   4]\n",
      " [  5   6 111   8   9]\n",
      " [ 10  11  12  13  14]]\n",
      "[[  0.   1.   2.   3.   4.]\n",
      " [  5.   6.   7.   8.   9.]\n",
      " [ 10.  11.  12.  13.  14.]]\n"
     ]
    }
   ],
   "source": [
    "# 通过np.astype显示地转换类型\n",
    "x = np.arange(15,dtype=np.int32).reshape(3,5)\n",
    "y= x.astype(np.float16) # astype无论如何都会copy原来地数组\n",
    "x[1,2] = 111\n",
    "print x\n",
    "print y"
   ]
  },
  {
   "cell_type": "code",
   "execution_count": 22,
   "metadata": {
    "collapsed": false
   },
   "outputs": [
    {
     "name": "stdout",
     "output_type": "stream",
     "text": [
      "[  0   1   2   3   4 111   6   7   8   9  10  11  12  13  14] [111   6]\n"
     ]
    }
   ],
   "source": [
    "# numpy地索引取值不是复制，而是原来的数据，因此任何在切片上的修改都会反映到原来的数组上\n",
    "arr = np.arange(15)\n",
    "slice = arr[5:7]\n",
    "slice[0]=111\n",
    "print arr,slice #两者都改变了"
   ]
  },
  {
   "cell_type": "code",
   "execution_count": 28,
   "metadata": {
    "collapsed": false
   },
   "outputs": [
    {
     "name": "stdout",
     "output_type": "stream",
     "text": [
      "[[[ 1  2  3]\n",
      "  [ 4  5  6]]\n",
      "\n",
      " [[ 7  8  9]\n",
      "  [10 11 12]]]\n",
      "[[1 2 3]\n",
      " [4 5 6]] [4 5 6] 8\n",
      "[[[123 123 123]\n",
      "  [123 123 123]]\n",
      "\n",
      " [[  7   8   9]\n",
      "  [ 10  11  12]]]\n"
     ]
    }
   ],
   "source": [
    "# 高维数组的表示，跟list的原理是一样的，不过此时对其中的值操作是原数组的视图，而不是复制产生的\n",
    "x = np.array([[[1,2,3],[4,5,6]],[[7,8,9],[10,11,12]]])\n",
    "print x\n",
    "print x[0],x[0][1],x[1][0][1]\n",
    "x[0] = 123\n",
    "print x"
   ]
  },
  {
   "cell_type": "code",
   "execution_count": 36,
   "metadata": {
    "collapsed": false
   },
   "outputs": [
    {
     "name": "stdout",
     "output_type": "stream",
     "text": [
      "[[-0.20123193  0.88055563  0.11468052 -0.95847465  3.13229192]\n",
      " [ 1.2849999   0.77632153  1.14229352 -0.52535724 -0.49341735]\n",
      " [ 0.94788649 -0.59405155  0.15988572 -0.52333684 -0.80890649]\n",
      " [-0.51362432 -0.57799634  0.28953177 -0.61019054  0.93318739]\n",
      " [-0.99464018 -0.66045341 -0.21393372 -2.07697663  0.56306652]\n",
      " [-1.95275608 -0.93467029 -0.21167018 -0.26674793 -0.21503334]\n",
      " [ 0.92834168 -0.91018174  1.38480803  0.49519364  1.44584719]] \n",
      "\n",
      "[[ 1.2849999   0.77632153  1.14229352 -0.52535724 -0.49341735]]\n",
      "[[ 1111.  1111.  1111.  1111.  1111.]] \n",
      "[[-0.20123193  0.88055563  0.11468052 -0.95847465  3.13229192]\n",
      " [ 1.2849999   0.77632153  1.14229352 -0.52535724 -0.49341735]\n",
      " [ 0.94788649 -0.59405155  0.15988572 -0.52333684 -0.80890649]\n",
      " [-0.51362432 -0.57799634  0.28953177 -0.61019054  0.93318739]\n",
      " [-0.99464018 -0.66045341 -0.21393372 -2.07697663  0.56306652]\n",
      " [-1.95275608 -0.93467029 -0.21167018 -0.26674793 -0.21503334]\n",
      " [ 0.92834168 -0.91018174  1.38480803  0.49519364  1.44584719]]\n",
      "\n",
      "[[ 0.15988572 -0.52333684 -0.80890649]]\n"
     ]
    }
   ],
   "source": [
    "# 布尔型索引\n",
    "name = np.array(['a','b','c','d','a','d','f'])\n",
    "rand = np.random.randn(7,5)\n",
    "print rand,'\\n'\n",
    "print rand[name == 'b']\n",
    "# 注意布尔型索引产生的数组都是复制产生的，即修改不会反映到原数组上\n",
    "modify = rand[name == 'c']\n",
    "modify[0] = 1111\n",
    "print modify,'\\n',rand #不会修改原来的值\n",
    "\n",
    "print '\\n',rand[name == 'c',2:]#将布尔型索引和切片混合使用"
   ]
  },
  {
   "cell_type": "code",
   "execution_count": 50,
   "metadata": {
    "collapsed": false
   },
   "outputs": [
    {
     "name": "stdout",
     "output_type": "stream",
     "text": [
      "[[ 0  1  2]\n",
      " [ 3  4  5]\n",
      " [ 6  7  8]\n",
      " [ 9 10 11]\n",
      " [12 13 14]] \n",
      "\n",
      "[[3 4 5]\n",
      " [6 7 8]] \n",
      "[[12 13 14]\n",
      " [ 3  4  5]]\n",
      "[ 9 13]\n"
     ]
    }
   ],
   "source": [
    "# 花式索引(fancy indexing): 索引的时候不是传入一个数，而是传入一个列表或者ndarray.\n",
    "x = np.arange(15).reshape(5,3)\n",
    "print x,'\\n'\n",
    "print x[[1,2]],'\\n',x[[-1,-4]]\n",
    "# 如果传入的是多个列表则通过cartesion坐标定位元素\n",
    "print x[[3,4],[0,1]] #选出x[3,0]和x[0,1]"
   ]
  },
  {
   "cell_type": "code",
   "execution_count": 63,
   "metadata": {
    "collapsed": false
   },
   "outputs": [
    {
     "name": "stdout",
     "output_type": "stream",
     "text": [
      "[[ 0  1  2  3]\n",
      " [ 4  5  6  7]\n",
      " [ 8  9 10 11]\n",
      " [12 13 14 15]] \n",
      "[[ 0  4  8 12]\n",
      " [ 1  5  9 13]\n",
      " [ 2  6 10 14]\n",
      " [ 3  7 11 15]]\n",
      "[[ 0  4  8 12]\n",
      " [ 1  5  9 13]\n",
      " [ 2  6 10 14]\n",
      " [ 3  7 11 15]]\n",
      "=============================\n",
      "[[[ 0  1  2  3]\n",
      "  [ 4  5  6  7]]\n",
      "\n",
      " [[ 8  9 10 11]\n",
      "  [12 13 14 15]]] \n",
      "[[[ 0  4]\n",
      "  [ 1  5]\n",
      "  [ 2  6]\n",
      "  [ 3  7]]\n",
      "\n",
      " [[ 8 12]\n",
      "  [ 9 13]\n",
      "  [10 14]\n",
      "  [11 15]]]\n"
     ]
    }
   ],
   "source": [
    "# numpy的数组转置和轴交换,得到的都是原数组的视图\n",
    "x = np.arange(16).reshape(4,4)\n",
    "print x,'\\n',x.T #只是简单的轴交换,不过没有改变原来的数组\n",
    "print x.swapaxes(0,1)#对于二位数组，上述是等效的,不过此时x已经改变了\n",
    "print '============================='\n",
    "# transpose,输入是轴编号的元组\n",
    "'''\n",
    "轴的理解：就是每个元素所在的方向，从0开始\n",
    "对于二维数组： axis = 0 代表row, axis=1 代表col\n",
    "对于三维数组：借助分页的二维数组，axis = 0 代表页面， axis =1代表每页的行，axis=2代表每页的列\n",
    "多维的无法视觉化，但是可以依次类推\n",
    "'''\n",
    "y = np.arange(16).reshape(2,2,4)\n",
    "print y,'\\n',y.transpose((0,2,1))#将每一页的row和col互换一下，输入的元组是要原数组要交换的axis"
   ]
  },
  {
   "cell_type": "code",
   "execution_count": 11,
   "metadata": {
    "collapsed": false
   },
   "outputs": [
    {
     "name": "stdout",
     "output_type": "stream",
     "text": [
      "[  0   1   4   9  16  25  36  49  64  81 100 121 144 169 196] \n",
      "\n",
      "[ True False False False False False False False False False False False\n",
      " False False False] \n",
      "\n",
      "[False False False False False False False False False False False False\n",
      " False False False] \n",
      "\n",
      "[ 0  2  4  6  8 10 12 14 16 18 20 22 24 26 28] \n",
      "\n",
      "[ True  True  True  True  True  True  True  True  True  True  True  True\n",
      "  True  True  True] \n",
      "\n",
      "[ 0.62913249 -0.51994635 -0.76582095  0.98885177 -0.45668831  0.19037841\n",
      " -0.07892076  1.11070054  1.05469515 -0.34792328  1.25669726 -0.21878737\n",
      " -0.58074406 -0.35585132  0.01800239]\n",
      "[  0.  -1.  -2.   3.  -4.   5.  -6.   7.   8.  -9.  10. -11. -12. -13.  14.] \n",
      "\n"
     ]
    }
   ],
   "source": [
    "# ufunc 中的通用函数\n",
    "'''\n",
    "1:一元ufunc: abs,fabs,sqrt,square,isnan,isfinite,isinf,cos,cosh,arccos,logical_not(计算各元素的not)\n",
    "2: 二元ufunc: add,subtract,power,maximum(fmax 相同，不过会忽略NaN),copysign(将第二个数组中的符号复制给第一个数组)\n",
    "greater(greater_equal执行元素比较，产生布尔型数组)，logical_and,logical_or,logical_xor.\n",
    "'''\n",
    "#一元\n",
    "x = np.arange(15)\n",
    "print np.square(x),'\\n'\n",
    "print np.logical_not(x),'\\n'\n",
    "print np.isnan(x),'\\n'\n",
    "#二元\n",
    "y = np.arange(15)\n",
    "print np.add(x,y),'\\n'\n",
    "print np.greater_equal(x,y),'\\n'\n",
    "y = np.random.randn(15)\n",
    "print y\n",
    "print np.copysign(x,y),'\\n'#将y的符号copy给x"
   ]
  },
  {
   "cell_type": "code",
   "execution_count": null,
   "metadata": {
    "collapsed": true
   },
   "outputs": [],
   "source": []
  }
 ],
 "metadata": {
  "kernelspec": {
   "display_name": "Python 2",
   "language": "python",
   "name": "python2"
  },
  "language_info": {
   "codemirror_mode": {
    "name": "ipython",
    "version": 2
   },
   "file_extension": ".py",
   "mimetype": "text/x-python",
   "name": "python",
   "nbconvert_exporter": "python",
   "pygments_lexer": "ipython2",
   "version": "2.7.10"
  }
 },
 "nbformat": 4,
 "nbformat_minor": 0
}
