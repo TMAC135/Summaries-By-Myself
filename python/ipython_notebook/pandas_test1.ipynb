{
 "cells": [
  {
   "cell_type": "code",
   "execution_count": 1,
   "metadata": {
    "collapsed": true
   },
   "outputs": [],
   "source": [
    "import pandas as pd\n",
    "import numpy as np"
   ]
  },
  {
   "cell_type": "code",
   "execution_count": 3,
   "metadata": {
    "collapsed": false
   },
   "outputs": [
    {
     "name": "stdout",
     "output_type": "stream",
     "text": [
      "0    0\n",
      "1    1\n",
      "2    2\n",
      "3    3\n",
      "4    4\n",
      "5    5\n",
      "dtype: int64\n"
     ]
    },
    {
     "data": {
      "text/plain": [
       "DatetimeIndex(['2016-03-01', '2016-03-02', '2016-03-03', '2016-03-04',\n",
       "               '2016-03-05', '2016-03-06'],\n",
       "              dtype='datetime64[ns]', freq='D')"
      ]
     },
     "execution_count": 3,
     "metadata": {},
     "output_type": "execute_result"
    }
   ],
   "source": [
    "x = pd.Series(np.arange(6))\n",
    "print x\n",
    "mydates = pd.date_range('20160301',periods=6)\n",
    "mydates\n",
    "\n"
   ]
  },
  {
   "cell_type": "code",
   "execution_count": 4,
   "metadata": {
    "collapsed": false
   },
   "outputs": [
    {
     "data": {
      "text/html": [
       "<div>\n",
       "<table border=\"1\" class=\"dataframe\">\n",
       "  <thead>\n",
       "    <tr style=\"text-align: right;\">\n",
       "      <th></th>\n",
       "      <th>a</th>\n",
       "      <th>b</th>\n",
       "      <th>c</th>\n",
       "    </tr>\n",
       "  </thead>\n",
       "  <tbody>\n",
       "    <tr>\n",
       "      <th>0</th>\n",
       "      <td>1</td>\n",
       "      <td>4</td>\n",
       "      <td>7</td>\n",
       "    </tr>\n",
       "    <tr>\n",
       "      <th>1</th>\n",
       "      <td>2</td>\n",
       "      <td>5</td>\n",
       "      <td>8</td>\n",
       "    </tr>\n",
       "    <tr>\n",
       "      <th>2</th>\n",
       "      <td>3</td>\n",
       "      <td>6</td>\n",
       "      <td>9</td>\n",
       "    </tr>\n",
       "  </tbody>\n",
       "</table>\n",
       "</div>"
      ],
      "text/plain": [
       "   a  b  c\n",
       "0  1  4  7\n",
       "1  2  5  8\n",
       "2  3  6  9"
      ]
     },
     "execution_count": 4,
     "metadata": {},
     "output_type": "execute_result"
    }
   ],
   "source": [
    "dict = {'a':[1,2,3],\"b\":[4,5,6],\"c\":[7,8,9]}\n",
    "df = pd.DataFrame(dict)\n",
    "df"
   ]
  },
  {
   "cell_type": "code",
   "execution_count": 5,
   "metadata": {
    "collapsed": false
   },
   "outputs": [
    {
     "data": {
      "text/html": [
       "<div>\n",
       "<table border=\"1\" class=\"dataframe\">\n",
       "  <thead>\n",
       "    <tr style=\"text-align: right;\">\n",
       "      <th></th>\n",
       "      <th>a</th>\n",
       "      <th>b</th>\n",
       "      <th>c</th>\n",
       "    </tr>\n",
       "  </thead>\n",
       "  <tbody>\n",
       "    <tr>\n",
       "      <th>0</th>\n",
       "      <td>1</td>\n",
       "      <td>4</td>\n",
       "      <td>7</td>\n",
       "    </tr>\n",
       "  </tbody>\n",
       "</table>\n",
       "</div>"
      ],
      "text/plain": [
       "   a  b  c\n",
       "0  1  4  7"
      ]
     },
     "execution_count": 5,
     "metadata": {},
     "output_type": "execute_result"
    }
   ],
   "source": [
    "df[:1]"
   ]
  },
  {
   "cell_type": "code",
   "execution_count": 6,
   "metadata": {
    "collapsed": false
   },
   "outputs": [
    {
     "data": {
      "text/plain": [
       "0    1\n",
       "1    2\n",
       "2    3\n",
       "Name: a, dtype: int64"
      ]
     },
     "execution_count": 6,
     "metadata": {},
     "output_type": "execute_result"
    }
   ],
   "source": [
    "df['a']"
   ]
  },
  {
   "cell_type": "code",
   "execution_count": 7,
   "metadata": {
    "collapsed": false
   },
   "outputs": [
    {
     "data": {
      "text/html": [
       "<div>\n",
       "<table border=\"1\" class=\"dataframe\">\n",
       "  <thead>\n",
       "    <tr style=\"text-align: right;\">\n",
       "      <th></th>\n",
       "      <th>b</th>\n",
       "      <th>c</th>\n",
       "    </tr>\n",
       "  </thead>\n",
       "  <tbody>\n",
       "    <tr>\n",
       "      <th>0</th>\n",
       "      <td>4</td>\n",
       "      <td>7</td>\n",
       "    </tr>\n",
       "    <tr>\n",
       "      <th>1</th>\n",
       "      <td>5</td>\n",
       "      <td>8</td>\n",
       "    </tr>\n",
       "    <tr>\n",
       "      <th>2</th>\n",
       "      <td>6</td>\n",
       "      <td>9</td>\n",
       "    </tr>\n",
       "  </tbody>\n",
       "</table>\n",
       "</div>"
      ],
      "text/plain": [
       "   b  c\n",
       "0  4  7\n",
       "1  5  8\n",
       "2  6  9"
      ]
     },
     "execution_count": 7,
     "metadata": {},
     "output_type": "execute_result"
    }
   ],
   "source": [
    "# 访问某几列\n",
    "df.loc[:,['b','c']]"
   ]
  },
  {
   "cell_type": "code",
   "execution_count": 8,
   "metadata": {
    "collapsed": false
   },
   "outputs": [
    {
     "data": {
      "text/plain": [
       "4"
      ]
     },
     "execution_count": 8,
     "metadata": {},
     "output_type": "execute_result"
    }
   ],
   "source": [
    "# 访问某个特定值\n",
    "df.loc[0,'b']"
   ]
  },
  {
   "cell_type": "code",
   "execution_count": 9,
   "metadata": {
    "collapsed": false
   },
   "outputs": [
    {
     "data": {
      "text/html": [
       "<div>\n",
       "<table border=\"1\" class=\"dataframe\">\n",
       "  <thead>\n",
       "    <tr style=\"text-align: right;\">\n",
       "      <th></th>\n",
       "      <th>a</th>\n",
       "      <th>b</th>\n",
       "      <th>c</th>\n",
       "    </tr>\n",
       "  </thead>\n",
       "  <tbody>\n",
       "    <tr>\n",
       "      <th>0</th>\n",
       "      <td>NaN</td>\n",
       "      <td>NaN</td>\n",
       "      <td>7</td>\n",
       "    </tr>\n",
       "    <tr>\n",
       "      <th>1</th>\n",
       "      <td>NaN</td>\n",
       "      <td>NaN</td>\n",
       "      <td>8</td>\n",
       "    </tr>\n",
       "    <tr>\n",
       "      <th>2</th>\n",
       "      <td>NaN</td>\n",
       "      <td>6</td>\n",
       "      <td>9</td>\n",
       "    </tr>\n",
       "  </tbody>\n",
       "</table>\n",
       "</div>"
      ],
      "text/plain": [
       "    a   b  c\n",
       "0 NaN NaN  7\n",
       "1 NaN NaN  8\n",
       "2 NaN   6  9"
      ]
     },
     "execution_count": 9,
     "metadata": {},
     "output_type": "execute_result"
    }
   ],
   "source": [
    "# 选取某些特定的元素\n",
    "df[df > 5]"
   ]
  },
  {
   "cell_type": "code",
   "execution_count": 10,
   "metadata": {
    "collapsed": false
   },
   "outputs": [
    {
     "data": {
      "text/html": [
       "<div>\n",
       "<table border=\"1\" class=\"dataframe\">\n",
       "  <thead>\n",
       "    <tr style=\"text-align: right;\">\n",
       "      <th></th>\n",
       "      <th>a</th>\n",
       "      <th>b</th>\n",
       "      <th>c</th>\n",
       "      <th>d</th>\n",
       "    </tr>\n",
       "  </thead>\n",
       "  <tbody>\n",
       "    <tr>\n",
       "      <th>0</th>\n",
       "      <td>1</td>\n",
       "      <td>4</td>\n",
       "      <td>7</td>\n",
       "      <td>10</td>\n",
       "    </tr>\n",
       "    <tr>\n",
       "      <th>1</th>\n",
       "      <td>2</td>\n",
       "      <td>5</td>\n",
       "      <td>8</td>\n",
       "      <td>11</td>\n",
       "    </tr>\n",
       "    <tr>\n",
       "      <th>2</th>\n",
       "      <td>3</td>\n",
       "      <td>6</td>\n",
       "      <td>9</td>\n",
       "      <td>12</td>\n",
       "    </tr>\n",
       "  </tbody>\n",
       "</table>\n",
       "</div>"
      ],
      "text/plain": [
       "   a  b  c   d\n",
       "0  1  4  7  10\n",
       "1  2  5  8  11\n",
       "2  3  6  9  12"
      ]
     },
     "execution_count": 10,
     "metadata": {},
     "output_type": "execute_result"
    }
   ],
   "source": [
    "# 增加一列\n",
    "df['d'] = [10,11,12]\n",
    "df"
   ]
  },
  {
   "cell_type": "code",
   "execution_count": 11,
   "metadata": {
    "collapsed": false
   },
   "outputs": [
    {
     "data": {
      "text/html": [
       "<div>\n",
       "<table border=\"1\" class=\"dataframe\">\n",
       "  <thead>\n",
       "    <tr style=\"text-align: right;\">\n",
       "      <th></th>\n",
       "      <th>a</th>\n",
       "      <th>b</th>\n",
       "      <th>c</th>\n",
       "      <th>d</th>\n",
       "    </tr>\n",
       "  </thead>\n",
       "  <tbody>\n",
       "    <tr>\n",
       "      <th>0</th>\n",
       "      <td>1</td>\n",
       "      <td>200</td>\n",
       "      <td>7</td>\n",
       "      <td>10</td>\n",
       "    </tr>\n",
       "    <tr>\n",
       "      <th>1</th>\n",
       "      <td>2</td>\n",
       "      <td>200</td>\n",
       "      <td>8</td>\n",
       "      <td>11</td>\n",
       "    </tr>\n",
       "    <tr>\n",
       "      <th>2</th>\n",
       "      <td>3</td>\n",
       "      <td>200</td>\n",
       "      <td>9</td>\n",
       "      <td>12</td>\n",
       "    </tr>\n",
       "  </tbody>\n",
       "</table>\n",
       "</div>"
      ],
      "text/plain": [
       "   a    b  c   d\n",
       "0  1  200  7  10\n",
       "1  2  200  8  11\n",
       "2  3  200  9  12"
      ]
     },
     "execution_count": 11,
     "metadata": {},
     "output_type": "execute_result"
    }
   ],
   "source": [
    "df.b = 200\n",
    "df"
   ]
  },
  {
   "cell_type": "code",
   "execution_count": 12,
   "metadata": {
    "collapsed": false
   },
   "outputs": [
    {
     "name": "stdout",
     "output_type": "stream",
     "text": [
      "         6         7         8         9         10\n",
      "0  0.349600  0.824502  0.901101 -0.264482  0.178343\n",
      "1 -0.420137  0.121775 -0.901289 -0.705275 -0.320809\n",
      "2  1.569872 -0.496523 -1.178872 -0.354877  0.284583\n",
      "3 -0.675277  1.947396 -0.174925 -1.922158 -0.883964\n"
     ]
    }
   ],
   "source": [
    "# DataFrame的几种构造方法\n",
    "# 1:自定义列\n",
    "df2 = pd.DataFrame(np.random.randn(4,5),columns=range(6,11))\n",
    "print df2"
   ]
  },
  {
   "cell_type": "code",
   "execution_count": 13,
   "metadata": {
    "collapsed": false
   },
   "outputs": [
    {
     "name": "stdout",
     "output_type": "stream",
     "text": [
      "{1: [0, 1, 2, 3, 4, 5], 2: [0, 1, 2, 3, 4, 5], 3: [0, 1, 2, 3, 4, 5]}\n",
      "   1  2  3\n",
      "0  0  0  0\n",
      "1  1  1  1\n",
      "2  2  2  2\n",
      "3  3  3  3\n",
      "4  4  4  4\n",
      "5  5  5  5\n"
     ]
    }
   ],
   "source": [
    "# 2:根据已知字典定义，每个字典的键值堆就是一列,注意此时的value不是scalar\n",
    "dict = {i:[j for j in range(6)] for i in xrange(1,4)}\n",
    "print dict\n",
    "df3 = pd.DataFrame(data=dict)\n",
    "print df3"
   ]
  },
  {
   "cell_type": "code",
   "execution_count": 14,
   "metadata": {
    "collapsed": false
   },
   "outputs": [
    {
     "name": "stdout",
     "output_type": "stream",
     "text": [
      "   0  1  2  3  4\n",
      "1  1  1  1  1  1\n",
      "2  1  1  1  1  1\n",
      "3  1  1  1  1  1\n"
     ]
    }
   ],
   "source": [
    "# 3: 根据字典创建，但是value 是scalar,需要加index，因为index默认是np.arange(n)的\n",
    "dict2 = {i:1 for i in range(5)}\n",
    "df4 = pd.DataFrame(dict2,index=range(1,4))\n",
    "print df4"
   ]
  },
  {
   "cell_type": "code",
   "execution_count": 15,
   "metadata": {
    "collapsed": false
   },
   "outputs": [
    {
     "name": "stdout",
     "output_type": "stream",
     "text": [
      "         6         7         8         9         10\n",
      "0  0.349600  0.824502  0.901101 -0.264482  0.178343\n",
      "1 -0.420137  0.121775 -0.901289 -0.705275 -0.320809\n",
      "2  1.569872 -0.496523 -1.178872 -0.354877  0.284583\n",
      "3 -0.675277  1.947396 -0.174925 -1.922158 -0.883964\n",
      "0    0.824502\n",
      "1    0.121775\n",
      "2   -0.496523\n",
      "3    1.947396\n",
      "Name: 7, dtype: float64\n",
      "6     1.569872\n",
      "7    -0.496523\n",
      "8    -1.178872\n",
      "9    -0.354877\n",
      "10    0.284583\n",
      "Name: 2, dtype: float64\n",
      "6   -0.420137\n",
      "8   -0.901289\n",
      "Name: 1, dtype: float64\n",
      "          6         8\n",
      "0  0.349600  0.901101\n",
      "1 -0.420137 -0.901289\n",
      "2  1.569872 -1.178872\n",
      "3 -0.675277 -0.174925\n"
     ]
    }
   ],
   "source": [
    "# 选择DataFrame中的元素，选择df2做例子 --Select by label\n",
    "print df2\n",
    "# 选择一列\n",
    "print df2[7]\n",
    "# 选择一行,返回的是Series\n",
    "print df2.loc[2]\n",
    "# 选取一行的特定几列\n",
    "print df2.loc[1,[6,8]]\n",
    "# 选取特定的几列\n",
    "print df2.loc[:,[6,8]]"
   ]
  },
  {
   "cell_type": "code",
   "execution_count": 16,
   "metadata": {
    "collapsed": false
   },
   "outputs": [
    {
     "name": "stdout",
     "output_type": "stream",
     "text": [
      "         6         7         8         9         10\n",
      "0  0.349600  0.824502  0.901101 -0.264482  0.178343\n",
      "1 -0.420137  0.121775 -0.901289 -0.705275 -0.320809\n",
      "2  1.569872 -0.496523 -1.178872 -0.354877  0.284583\n",
      "3 -0.675277  1.947396 -0.174925 -1.922158 -0.883964\n",
      "0    0.901101\n",
      "1   -0.901289\n",
      "2   -1.178872\n",
      "3   -0.174925\n",
      "Name: 8, dtype: float64\n",
      "6     0.349600\n",
      "7     0.824502\n",
      "8     0.901101\n",
      "9    -0.264482\n",
      "10    0.178343\n",
      "Name: 0, dtype: float64\n",
      "         8         9         10\n",
      "0  0.901101 -0.264482  0.178343\n",
      "1 -0.901289 -0.705275 -0.320809\n"
     ]
    }
   ],
   "source": [
    "# 另外选择元素的问题，-- Select by position\n",
    "print df2\n",
    "# 选择某一列,注意此时的2代表的是index了，不是key了\n",
    "print df2.iloc[:,2]#第三列\n",
    "# 选择某一行\n",
    "print df2.iloc[0,:]\n",
    "# 选取特定的一段\n",
    "print df2.iloc[0:2,2:5]"
   ]
  },
  {
   "cell_type": "code",
   "execution_count": 17,
   "metadata": {
    "collapsed": false
   },
   "outputs": [
    {
     "name": "stdout",
     "output_type": "stream",
     "text": [
      "         6         7         8         9         10\n",
      "0  0.349600  0.824502  0.901101 -0.264482  0.178343\n",
      "1 -0.420137  0.121775 -0.901289 -0.705275 -0.320809\n",
      "2  1.569872 -0.496523 -1.178872 -0.354877  0.284583\n",
      "3 -0.675277  1.947396 -0.174925 -1.922158 -0.883964\n",
      "         6         7         8   9         10\n",
      "0  0.349600  0.824502  0.901101 NaN  0.178343\n",
      "1       NaN  0.121775       NaN NaN       NaN\n",
      "2  1.569872       NaN       NaN NaN  0.284583\n",
      "3       NaN  1.947396       NaN NaN       NaN\n",
      "         6         7         8         9         10\n",
      "0  0.349600  0.824502  0.901101 -0.264482  0.178343\n",
      "2  1.569872 -0.496523 -1.178872 -0.354877  0.284583\n"
     ]
    }
   ],
   "source": [
    "# Boolean 索引值选取原dataframe\n",
    "print df2\n",
    "print df2[df2>0]#整个矩阵做比较\n",
    "print df2[df2.iloc[:,0]>0]#选择第一列大于0的那几行元素输出"
   ]
  },
  {
   "cell_type": "code",
   "execution_count": 32,
   "metadata": {
    "collapsed": false
   },
   "outputs": [
    {
     "name": "stdout",
     "output_type": "stream",
     "text": [
      "a    1\n",
      "b    2\n",
      "c    3\n",
      "dtype: int64 \n",
      "\n",
      "0    a\n",
      "1    b\n",
      "2    c\n",
      "dtype: object \n",
      "\n",
      "Index([u'a', u'b', u'c'], dtype='object') \n",
      "Int64Index([0, 1, 2], dtype='int64') \n",
      "\n",
      "[1 2 3] \n",
      "['a' 'b' 'c'] \n",
      "\n",
      "0    NaN\n",
      "1    NaN\n",
      "2    NaN\n",
      "a    NaN\n",
      "b    NaN\n",
      "c    NaN\n",
      "dtype: object n\n",
      "aa    0\n",
      "bb    1\n",
      "cc    2\n",
      "dd    3\n",
      "ee    4\n",
      "dtype: int64 \n",
      "\n",
      "1    0\n",
      "2    1\n",
      "3    2\n",
      "4    3\n",
      "5    4\n",
      "dtype: int64\n"
     ]
    }
   ],
   "source": [
    "'''\n",
    "Series 对象的构造函数：1:字典，key-value对应索引和值， 2:列表：此时索引默认是从0开始的。3:制定特定的index 数组\n",
    "'''\n",
    "#1\n",
    "x = pd.Series({'a':1,'b':2,'c':3})\n",
    "print x,'\\n'\n",
    "#2\n",
    "y= pd.Series(['a','b','c'])\n",
    "print y,'\\n'\n",
    "print x.index,'\\n',y.index,'\\n'\n",
    "print x.values,'\\n',y.values,'\\n'\n",
    "#3\n",
    "z = pd.Series(np.arange(5),index=['aa','bb','cc','dd','ee'])\n",
    "#x.index[2]\n",
    "\n",
    "'''\n",
    "series 对象的 加，减操作,对缺失的值直接赋予NaN\n",
    "'''\n",
    "print x+y,'n'\n",
    "\n",
    "'''直接对series对象的index进行修改'''\n",
    "print z,'\\n'\n",
    "z.index=['1','2','3','4','5']\n",
    "print z"
   ]
  },
  {
   "cell_type": "code",
   "execution_count": 42,
   "metadata": {
    "collapsed": false
   },
   "outputs": [
    {
     "name": "stdout",
     "output_type": "stream",
     "text": [
      "   a  b\n",
      "0  1  4\n",
      "1  2  5\n",
      "2  3  6 \n",
      "\n",
      "      a  b\n",
      "row1  1  4\n",
      "row2  2  5\n",
      "row3  3  6 \n",
      "\n",
      "   a    c  b\n",
      "0  0  NaN  5\n",
      "1  1  NaN  6\n",
      "2  2  NaN  7\n",
      "3  3  NaN  8\n",
      "4  4  NaN  9 \n",
      "\n",
      "      col1  col2\n",
      "row1     1     3\n",
      "row2     2   NaN\n",
      "row3   NaN     4 \n",
      "\n",
      "Index([u'a', u'c', u'b'], dtype='object') \n",
      "\n",
      "Int64Index([0, 1, 2, 3, 4], dtype='int64') \n",
      "\n",
      "[[0 nan 5]\n",
      " [1 nan 6]\n",
      " [2 nan 7]\n",
      " [3 nan 8]\n",
      " [4 nan 9]] \n",
      "\n",
      "row1     1\n",
      "row2     2\n",
      "row3   NaN\n",
      "Name: col1, dtype: float64 \n",
      "\n",
      "2.0 \n",
      "\n"
     ]
    }
   ],
   "source": [
    "'''\n",
    "DataFrame 对象，既包含行索引，又包含列索引，可以看成是series组成的字典。\n",
    "'''\n",
    "#1:未指定index的值，使用默认的index数组，输入是字典\n",
    "x = pd.DataFrame({'a':[1,2,3],'b':[4,5,6]})\n",
    "print x,'\\n'\n",
    "#2:输入有index 数组和字典\n",
    "y= pd.DataFrame({'a':[1,2,3],'b':[4,5,6]},index=['row1','row2','row3'])\n",
    "print y,'\\n'\n",
    "#3:输入的有index 数组，字典以及声明了列索引columns,如果数据里没有columns里指定的索引，即初始化成NaN\n",
    "z = pd.DataFrame({'a':np.arange(5),'b':np.arange(5,10)},index=np.arange(5),columns=['a','c','b'])\n",
    "print z,'\\n'\n",
    "#4:输入是嵌套的字典,同样miss的值用NaN来补全\n",
    "v = pd.DataFrame({'col1':{'row1':1,'row2':2},'col2':{'row1':3,'row3':4}})\n",
    "print v,'\\n'\n",
    "\n",
    "'''\n",
    "DataFrame 对象包括\n",
    "columns:一维数组\n",
    "index:一维数组\n",
    "values:二位数组\n",
    "'''\n",
    "print z.columns,'\\n'\n",
    "print z.index,'\\n'\n",
    "print z.values,'\\n'\n",
    "\n",
    "'''\n",
    "可以用类似字典的索引方法来访问某一列，x['col']\n",
    "'''\n",
    "print v['col1'],'\\n'\n",
    "print v['col1'][1],'\\n'"
   ]
  },
  {
   "cell_type": "code",
   "execution_count": null,
   "metadata": {
    "collapsed": true
   },
   "outputs": [],
   "source": []
  }
 ],
 "metadata": {
  "kernelspec": {
   "display_name": "Python 2",
   "language": "python",
   "name": "python2"
  },
  "language_info": {
   "codemirror_mode": {
    "name": "ipython",
    "version": 2
   },
   "file_extension": ".py",
   "mimetype": "text/x-python",
   "name": "python",
   "nbconvert_exporter": "python",
   "pygments_lexer": "ipython2",
   "version": "2.7.10"
  }
 },
 "nbformat": 4,
 "nbformat_minor": 0
}
