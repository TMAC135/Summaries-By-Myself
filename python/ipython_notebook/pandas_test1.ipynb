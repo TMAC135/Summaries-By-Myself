{
 "cells": [
  {
   "cell_type": "code",
   "execution_count": 1,
   "metadata": {
    "collapsed": true
   },
   "outputs": [],
   "source": [
    "import pandas as pd\n",
    "import numpy as np"
   ]
  },
  {
   "cell_type": "code",
   "execution_count": 3,
   "metadata": {
    "collapsed": false
   },
   "outputs": [
    {
     "name": "stdout",
     "output_type": "stream",
     "text": [
      "0    0\n",
      "1    1\n",
      "2    2\n",
      "3    3\n",
      "4    4\n",
      "5    5\n",
      "dtype: int64\n"
     ]
    },
    {
     "data": {
      "text/plain": [
       "DatetimeIndex(['2016-03-01', '2016-03-02', '2016-03-03', '2016-03-04',\n",
       "               '2016-03-05', '2016-03-06'],\n",
       "              dtype='datetime64[ns]', freq='D')"
      ]
     },
     "execution_count": 3,
     "metadata": {},
     "output_type": "execute_result"
    }
   ],
   "source": [
    "x = pd.Series(np.arange(6))\n",
    "print x\n",
    "mydates = pd.date_range('20160301',periods=6)\n",
    "mydates\n",
    "\n"
   ]
  },
  {
   "cell_type": "code",
   "execution_count": 4,
   "metadata": {
    "collapsed": false
   },
   "outputs": [
    {
     "data": {
      "text/html": [
       "<div>\n",
       "<table border=\"1\" class=\"dataframe\">\n",
       "  <thead>\n",
       "    <tr style=\"text-align: right;\">\n",
       "      <th></th>\n",
       "      <th>a</th>\n",
       "      <th>b</th>\n",
       "      <th>c</th>\n",
       "    </tr>\n",
       "  </thead>\n",
       "  <tbody>\n",
       "    <tr>\n",
       "      <th>0</th>\n",
       "      <td>1</td>\n",
       "      <td>4</td>\n",
       "      <td>7</td>\n",
       "    </tr>\n",
       "    <tr>\n",
       "      <th>1</th>\n",
       "      <td>2</td>\n",
       "      <td>5</td>\n",
       "      <td>8</td>\n",
       "    </tr>\n",
       "    <tr>\n",
       "      <th>2</th>\n",
       "      <td>3</td>\n",
       "      <td>6</td>\n",
       "      <td>9</td>\n",
       "    </tr>\n",
       "  </tbody>\n",
       "</table>\n",
       "</div>"
      ],
      "text/plain": [
       "   a  b  c\n",
       "0  1  4  7\n",
       "1  2  5  8\n",
       "2  3  6  9"
      ]
     },
     "execution_count": 4,
     "metadata": {},
     "output_type": "execute_result"
    }
   ],
   "source": [
    "dict = {'a':[1,2,3],\"b\":[4,5,6],\"c\":[7,8,9]}\n",
    "df = pd.DataFrame(dict)\n",
    "df"
   ]
  },
  {
   "cell_type": "code",
   "execution_count": 5,
   "metadata": {
    "collapsed": false
   },
   "outputs": [
    {
     "data": {
      "text/html": [
       "<div>\n",
       "<table border=\"1\" class=\"dataframe\">\n",
       "  <thead>\n",
       "    <tr style=\"text-align: right;\">\n",
       "      <th></th>\n",
       "      <th>a</th>\n",
       "      <th>b</th>\n",
       "      <th>c</th>\n",
       "    </tr>\n",
       "  </thead>\n",
       "  <tbody>\n",
       "    <tr>\n",
       "      <th>0</th>\n",
       "      <td>1</td>\n",
       "      <td>4</td>\n",
       "      <td>7</td>\n",
       "    </tr>\n",
       "  </tbody>\n",
       "</table>\n",
       "</div>"
      ],
      "text/plain": [
       "   a  b  c\n",
       "0  1  4  7"
      ]
     },
     "execution_count": 5,
     "metadata": {},
     "output_type": "execute_result"
    }
   ],
   "source": [
    "df[:1]"
   ]
  },
  {
   "cell_type": "code",
   "execution_count": 6,
   "metadata": {
    "collapsed": false
   },
   "outputs": [
    {
     "data": {
      "text/plain": [
       "0    1\n",
       "1    2\n",
       "2    3\n",
       "Name: a, dtype: int64"
      ]
     },
     "execution_count": 6,
     "metadata": {},
     "output_type": "execute_result"
    }
   ],
   "source": [
    "df['a']"
   ]
  },
  {
   "cell_type": "code",
   "execution_count": 7,
   "metadata": {
    "collapsed": false
   },
   "outputs": [
    {
     "data": {
      "text/html": [
       "<div>\n",
       "<table border=\"1\" class=\"dataframe\">\n",
       "  <thead>\n",
       "    <tr style=\"text-align: right;\">\n",
       "      <th></th>\n",
       "      <th>b</th>\n",
       "      <th>c</th>\n",
       "    </tr>\n",
       "  </thead>\n",
       "  <tbody>\n",
       "    <tr>\n",
       "      <th>0</th>\n",
       "      <td>4</td>\n",
       "      <td>7</td>\n",
       "    </tr>\n",
       "    <tr>\n",
       "      <th>1</th>\n",
       "      <td>5</td>\n",
       "      <td>8</td>\n",
       "    </tr>\n",
       "    <tr>\n",
       "      <th>2</th>\n",
       "      <td>6</td>\n",
       "      <td>9</td>\n",
       "    </tr>\n",
       "  </tbody>\n",
       "</table>\n",
       "</div>"
      ],
      "text/plain": [
       "   b  c\n",
       "0  4  7\n",
       "1  5  8\n",
       "2  6  9"
      ]
     },
     "execution_count": 7,
     "metadata": {},
     "output_type": "execute_result"
    }
   ],
   "source": [
    "# 访问某几列\n",
    "df.loc[:,['b','c']]"
   ]
  },
  {
   "cell_type": "code",
   "execution_count": 8,
   "metadata": {
    "collapsed": false
   },
   "outputs": [
    {
     "data": {
      "text/plain": [
       "4"
      ]
     },
     "execution_count": 8,
     "metadata": {},
     "output_type": "execute_result"
    }
   ],
   "source": [
    "# 访问某个特定值\n",
    "df.loc[0,'b']"
   ]
  },
  {
   "cell_type": "code",
   "execution_count": 9,
   "metadata": {
    "collapsed": false
   },
   "outputs": [
    {
     "data": {
      "text/html": [
       "<div>\n",
       "<table border=\"1\" class=\"dataframe\">\n",
       "  <thead>\n",
       "    <tr style=\"text-align: right;\">\n",
       "      <th></th>\n",
       "      <th>a</th>\n",
       "      <th>b</th>\n",
       "      <th>c</th>\n",
       "    </tr>\n",
       "  </thead>\n",
       "  <tbody>\n",
       "    <tr>\n",
       "      <th>0</th>\n",
       "      <td>NaN</td>\n",
       "      <td>NaN</td>\n",
       "      <td>7</td>\n",
       "    </tr>\n",
       "    <tr>\n",
       "      <th>1</th>\n",
       "      <td>NaN</td>\n",
       "      <td>NaN</td>\n",
       "      <td>8</td>\n",
       "    </tr>\n",
       "    <tr>\n",
       "      <th>2</th>\n",
       "      <td>NaN</td>\n",
       "      <td>6</td>\n",
       "      <td>9</td>\n",
       "    </tr>\n",
       "  </tbody>\n",
       "</table>\n",
       "</div>"
      ],
      "text/plain": [
       "    a   b  c\n",
       "0 NaN NaN  7\n",
       "1 NaN NaN  8\n",
       "2 NaN   6  9"
      ]
     },
     "execution_count": 9,
     "metadata": {},
     "output_type": "execute_result"
    }
   ],
   "source": [
    "# 选取某些特定的元素\n",
    "df[df > 5]"
   ]
  },
  {
   "cell_type": "code",
   "execution_count": 10,
   "metadata": {
    "collapsed": false
   },
   "outputs": [
    {
     "data": {
      "text/html": [
       "<div>\n",
       "<table border=\"1\" class=\"dataframe\">\n",
       "  <thead>\n",
       "    <tr style=\"text-align: right;\">\n",
       "      <th></th>\n",
       "      <th>a</th>\n",
       "      <th>b</th>\n",
       "      <th>c</th>\n",
       "      <th>d</th>\n",
       "    </tr>\n",
       "  </thead>\n",
       "  <tbody>\n",
       "    <tr>\n",
       "      <th>0</th>\n",
       "      <td>1</td>\n",
       "      <td>4</td>\n",
       "      <td>7</td>\n",
       "      <td>10</td>\n",
       "    </tr>\n",
       "    <tr>\n",
       "      <th>1</th>\n",
       "      <td>2</td>\n",
       "      <td>5</td>\n",
       "      <td>8</td>\n",
       "      <td>11</td>\n",
       "    </tr>\n",
       "    <tr>\n",
       "      <th>2</th>\n",
       "      <td>3</td>\n",
       "      <td>6</td>\n",
       "      <td>9</td>\n",
       "      <td>12</td>\n",
       "    </tr>\n",
       "  </tbody>\n",
       "</table>\n",
       "</div>"
      ],
      "text/plain": [
       "   a  b  c   d\n",
       "0  1  4  7  10\n",
       "1  2  5  8  11\n",
       "2  3  6  9  12"
      ]
     },
     "execution_count": 10,
     "metadata": {},
     "output_type": "execute_result"
    }
   ],
   "source": [
    "# 增加一列\n",
    "df['d'] = [10,11,12]\n",
    "df"
   ]
  },
  {
   "cell_type": "code",
   "execution_count": 11,
   "metadata": {
    "collapsed": false
   },
   "outputs": [
    {
     "data": {
      "text/html": [
       "<div>\n",
       "<table border=\"1\" class=\"dataframe\">\n",
       "  <thead>\n",
       "    <tr style=\"text-align: right;\">\n",
       "      <th></th>\n",
       "      <th>a</th>\n",
       "      <th>b</th>\n",
       "      <th>c</th>\n",
       "      <th>d</th>\n",
       "    </tr>\n",
       "  </thead>\n",
       "  <tbody>\n",
       "    <tr>\n",
       "      <th>0</th>\n",
       "      <td>1</td>\n",
       "      <td>200</td>\n",
       "      <td>7</td>\n",
       "      <td>10</td>\n",
       "    </tr>\n",
       "    <tr>\n",
       "      <th>1</th>\n",
       "      <td>2</td>\n",
       "      <td>200</td>\n",
       "      <td>8</td>\n",
       "      <td>11</td>\n",
       "    </tr>\n",
       "    <tr>\n",
       "      <th>2</th>\n",
       "      <td>3</td>\n",
       "      <td>200</td>\n",
       "      <td>9</td>\n",
       "      <td>12</td>\n",
       "    </tr>\n",
       "  </tbody>\n",
       "</table>\n",
       "</div>"
      ],
      "text/plain": [
       "   a    b  c   d\n",
       "0  1  200  7  10\n",
       "1  2  200  8  11\n",
       "2  3  200  9  12"
      ]
     },
     "execution_count": 11,
     "metadata": {},
     "output_type": "execute_result"
    }
   ],
   "source": [
    "df.b = 200\n",
    "df"
   ]
  },
  {
   "cell_type": "code",
   "execution_count": 12,
   "metadata": {
    "collapsed": false
   },
   "outputs": [
    {
     "name": "stdout",
     "output_type": "stream",
     "text": [
      "         6         7         8         9         10\n",
      "0  0.349600  0.824502  0.901101 -0.264482  0.178343\n",
      "1 -0.420137  0.121775 -0.901289 -0.705275 -0.320809\n",
      "2  1.569872 -0.496523 -1.178872 -0.354877  0.284583\n",
      "3 -0.675277  1.947396 -0.174925 -1.922158 -0.883964\n"
     ]
    }
   ],
   "source": [
    "# DataFrame的几种构造方法\n",
    "# 1:自定义列\n",
    "df2 = pd.DataFrame(np.random.randn(4,5),columns=range(6,11))\n",
    "print df2"
   ]
  },
  {
   "cell_type": "code",
   "execution_count": 13,
   "metadata": {
    "collapsed": false
   },
   "outputs": [
    {
     "name": "stdout",
     "output_type": "stream",
     "text": [
      "{1: [0, 1, 2, 3, 4, 5], 2: [0, 1, 2, 3, 4, 5], 3: [0, 1, 2, 3, 4, 5]}\n",
      "   1  2  3\n",
      "0  0  0  0\n",
      "1  1  1  1\n",
      "2  2  2  2\n",
      "3  3  3  3\n",
      "4  4  4  4\n",
      "5  5  5  5\n"
     ]
    }
   ],
   "source": [
    "# 2:根据已知字典定义，每个字典的键值堆就是一列,注意此时的value不是scalar\n",
    "dict = {i:[j for j in range(6)] for i in xrange(1,4)}\n",
    "print dict\n",
    "df3 = pd.DataFrame(data=dict)\n",
    "print df3"
   ]
  },
  {
   "cell_type": "code",
   "execution_count": 14,
   "metadata": {
    "collapsed": false
   },
   "outputs": [
    {
     "name": "stdout",
     "output_type": "stream",
     "text": [
      "   0  1  2  3  4\n",
      "1  1  1  1  1  1\n",
      "2  1  1  1  1  1\n",
      "3  1  1  1  1  1\n"
     ]
    }
   ],
   "source": [
    "# 3: 根据字典创建，但是value 是scalar,需要加index，因为index默认是np.arange(n)的\n",
    "dict2 = {i:1 for i in range(5)}\n",
    "df4 = pd.DataFrame(dict2,index=range(1,4))\n",
    "print df4"
   ]
  },
  {
   "cell_type": "code",
   "execution_count": 15,
   "metadata": {
    "collapsed": false
   },
   "outputs": [
    {
     "name": "stdout",
     "output_type": "stream",
     "text": [
      "         6         7         8         9         10\n",
      "0  0.349600  0.824502  0.901101 -0.264482  0.178343\n",
      "1 -0.420137  0.121775 -0.901289 -0.705275 -0.320809\n",
      "2  1.569872 -0.496523 -1.178872 -0.354877  0.284583\n",
      "3 -0.675277  1.947396 -0.174925 -1.922158 -0.883964\n",
      "0    0.824502\n",
      "1    0.121775\n",
      "2   -0.496523\n",
      "3    1.947396\n",
      "Name: 7, dtype: float64\n",
      "6     1.569872\n",
      "7    -0.496523\n",
      "8    -1.178872\n",
      "9    -0.354877\n",
      "10    0.284583\n",
      "Name: 2, dtype: float64\n",
      "6   -0.420137\n",
      "8   -0.901289\n",
      "Name: 1, dtype: float64\n",
      "          6         8\n",
      "0  0.349600  0.901101\n",
      "1 -0.420137 -0.901289\n",
      "2  1.569872 -1.178872\n",
      "3 -0.675277 -0.174925\n"
     ]
    }
   ],
   "source": [
    "# 选择DataFrame中的元素，选择df2做例子 --Select by label\n",
    "print df2\n",
    "# 选择一列\n",
    "print df2[7]\n",
    "# 选择一行,返回的是Series\n",
    "print df2.loc[2]\n",
    "# 选取一行的特定几列\n",
    "print df2.loc[1,[6,8]]\n",
    "# 选取特定的几列\n",
    "print df2.loc[:,[6,8]]"
   ]
  },
  {
   "cell_type": "code",
   "execution_count": 16,
   "metadata": {
    "collapsed": false
   },
   "outputs": [
    {
     "name": "stdout",
     "output_type": "stream",
     "text": [
      "         6         7         8         9         10\n",
      "0  0.349600  0.824502  0.901101 -0.264482  0.178343\n",
      "1 -0.420137  0.121775 -0.901289 -0.705275 -0.320809\n",
      "2  1.569872 -0.496523 -1.178872 -0.354877  0.284583\n",
      "3 -0.675277  1.947396 -0.174925 -1.922158 -0.883964\n",
      "0    0.901101\n",
      "1   -0.901289\n",
      "2   -1.178872\n",
      "3   -0.174925\n",
      "Name: 8, dtype: float64\n",
      "6     0.349600\n",
      "7     0.824502\n",
      "8     0.901101\n",
      "9    -0.264482\n",
      "10    0.178343\n",
      "Name: 0, dtype: float64\n",
      "         8         9         10\n",
      "0  0.901101 -0.264482  0.178343\n",
      "1 -0.901289 -0.705275 -0.320809\n"
     ]
    }
   ],
   "source": [
    "# 另外选择元素的问题，-- Select by position\n",
    "print df2\n",
    "# 选择某一列,注意此时的2代表的是index了，不是key了\n",
    "print df2.iloc[:,2]#第三列\n",
    "# 选择某一行\n",
    "print df2.iloc[0,:]\n",
    "# 选取特定的一段\n",
    "print df2.iloc[0:2,2:5]"
   ]
  },
  {
   "cell_type": "code",
   "execution_count": 17,
   "metadata": {
    "collapsed": false
   },
   "outputs": [
    {
     "name": "stdout",
     "output_type": "stream",
     "text": [
      "         6         7         8         9         10\n",
      "0  0.349600  0.824502  0.901101 -0.264482  0.178343\n",
      "1 -0.420137  0.121775 -0.901289 -0.705275 -0.320809\n",
      "2  1.569872 -0.496523 -1.178872 -0.354877  0.284583\n",
      "3 -0.675277  1.947396 -0.174925 -1.922158 -0.883964\n",
      "         6         7         8   9         10\n",
      "0  0.349600  0.824502  0.901101 NaN  0.178343\n",
      "1       NaN  0.121775       NaN NaN       NaN\n",
      "2  1.569872       NaN       NaN NaN  0.284583\n",
      "3       NaN  1.947396       NaN NaN       NaN\n",
      "         6         7         8         9         10\n",
      "0  0.349600  0.824502  0.901101 -0.264482  0.178343\n",
      "2  1.569872 -0.496523 -1.178872 -0.354877  0.284583\n"
     ]
    }
   ],
   "source": [
    "# Boolean 索引值选取原dataframe\n",
    "print df2\n",
    "print df2[df2>0]#整个矩阵做比较\n",
    "print df2[df2.iloc[:,0]>0]#选择第一列大于0的那几行元素输出"
   ]
  },
  {
   "cell_type": "code",
   "execution_count": 32,
   "metadata": {
    "collapsed": false
   },
   "outputs": [
    {
     "name": "stdout",
     "output_type": "stream",
     "text": [
      "a    1\n",
      "b    2\n",
      "c    3\n",
      "dtype: int64 \n",
      "\n",
      "0    a\n",
      "1    b\n",
      "2    c\n",
      "dtype: object \n",
      "\n",
      "Index([u'a', u'b', u'c'], dtype='object') \n",
      "Int64Index([0, 1, 2], dtype='int64') \n",
      "\n",
      "[1 2 3] \n",
      "['a' 'b' 'c'] \n",
      "\n",
      "0    NaN\n",
      "1    NaN\n",
      "2    NaN\n",
      "a    NaN\n",
      "b    NaN\n",
      "c    NaN\n",
      "dtype: object n\n",
      "aa    0\n",
      "bb    1\n",
      "cc    2\n",
      "dd    3\n",
      "ee    4\n",
      "dtype: int64 \n",
      "\n",
      "1    0\n",
      "2    1\n",
      "3    2\n",
      "4    3\n",
      "5    4\n",
      "dtype: int64\n"
     ]
    }
   ],
   "source": [
    "'''\n",
    "Series 对象的构造函数：1:字典，key-value对应索引和值， 2:列表：此时索引默认是从0开始的。3:制定特定的index 数组\n",
    "'''\n",
    "#1\n",
    "x = pd.Series({'a':1,'b':2,'c':3})\n",
    "print x,'\\n'\n",
    "#2\n",
    "y= pd.Series(['a','b','c'])\n",
    "print y,'\\n'\n",
    "print x.index,'\\n',y.index,'\\n'\n",
    "print x.values,'\\n',y.values,'\\n'\n",
    "#3\n",
    "z = pd.Series(np.arange(5),index=['aa','bb','cc','dd','ee'])\n",
    "#x.index[2]\n",
    "\n",
    "'''\n",
    "series 对象的 加，减操作,对缺失的值直接赋予NaN\n",
    "'''\n",
    "print x+y,'n'\n",
    "\n",
    "'''直接对series对象的index进行修改'''\n",
    "print z,'\\n'\n",
    "z.index=['1','2','3','4','5']\n",
    "print z"
   ]
  },
  {
   "cell_type": "code",
   "execution_count": 42,
   "metadata": {
    "collapsed": false
   },
   "outputs": [
    {
     "name": "stdout",
     "output_type": "stream",
     "text": [
      "   a  b\n",
      "0  1  4\n",
      "1  2  5\n",
      "2  3  6 \n",
      "\n",
      "      a  b\n",
      "row1  1  4\n",
      "row2  2  5\n",
      "row3  3  6 \n",
      "\n",
      "   a    c  b\n",
      "0  0  NaN  5\n",
      "1  1  NaN  6\n",
      "2  2  NaN  7\n",
      "3  3  NaN  8\n",
      "4  4  NaN  9 \n",
      "\n",
      "      col1  col2\n",
      "row1     1     3\n",
      "row2     2   NaN\n",
      "row3   NaN     4 \n",
      "\n",
      "Index([u'a', u'c', u'b'], dtype='object') \n",
      "\n",
      "Int64Index([0, 1, 2, 3, 4], dtype='int64') \n",
      "\n",
      "[[0 nan 5]\n",
      " [1 nan 6]\n",
      " [2 nan 7]\n",
      " [3 nan 8]\n",
      " [4 nan 9]] \n",
      "\n",
      "row1     1\n",
      "row2     2\n",
      "row3   NaN\n",
      "Name: col1, dtype: float64 \n",
      "\n",
      "2.0 \n",
      "\n"
     ]
    }
   ],
   "source": [
    "'''\n",
    "DataFrame 对象，既包含行索引，又包含列索引，可以看成是series组成的字典。\n",
    "'''\n",
    "#1:未指定index的值，使用默认的index数组，输入是字典\n",
    "x = pd.DataFrame({'a':[1,2,3],'b':[4,5,6]})\n",
    "print x,'\\n'\n",
    "#2:输入有index 数组和字典\n",
    "y= pd.DataFrame({'a':[1,2,3],'b':[4,5,6]},index=['row1','row2','row3'])\n",
    "print y,'\\n'\n",
    "#3:输入的有index 数组，字典以及声明了列索引columns,如果数据里没有columns里指定的索引，即初始化成NaN\n",
    "z = pd.DataFrame({'a':np.arange(5),'b':np.arange(5,10)},index=np.arange(5),columns=['a','c','b'])\n",
    "print z,'\\n'\n",
    "#4:输入是嵌套的字典,同样miss的值用NaN来补全\n",
    "v = pd.DataFrame({'col1':{'row1':1,'row2':2},'col2':{'row1':3,'row3':4}})\n",
    "print v,'\\n'\n",
    "\n",
    "'''\n",
    "DataFrame 对象包括\n",
    "columns:一维数组\n",
    "index:一维数组\n",
    "values:二位数组\n",
    "'''\n",
    "print z.columns,'\\n'\n",
    "print z.index,'\\n'\n",
    "print z.values,'\\n'\n",
    "\n",
    "'''\n",
    "可以用类似字典的索引方法来访问某一列，x['col']\n",
    "'''\n",
    "print v['col1'],'\\n'\n",
    "print v['col1'][1],'\\n'"
   ]
  },
  {
   "cell_type": "code",
   "execution_count": 11,
   "metadata": {
    "collapsed": false
   },
   "outputs": [
    {
     "name": "stdout",
     "output_type": "stream",
     "text": [
      "Int64Index([0, 1, 2, 3, 4], dtype='int64') \n",
      "\n",
      "Index([u'aa', u'bb', u'cc'], dtype='object') \n",
      "\n",
      "True\n",
      "<bound method Int64Index.unique of Int64Index([0, 1, 2, 3, 4], dtype='int64')>\n",
      "Int64Index([0, 5, 1, 2, 3, 4], dtype='int64')\n",
      "Int64Index([0, 1, 2, 3, 4], dtype='int64')\n",
      "Int64Index([0, 1, 3, 4], dtype='int64')\n",
      "Int64Index([0, 1, 2, 3, 4], dtype='int64')\n"
     ]
    }
   ],
   "source": [
    "'''\n",
    "pandas 中的index 对象，不管是Series 还是 DataFrame对象， index对象都是immutable 的， 不能修改。\n",
    "index 常用的方法：append,diff,union,intersection(集合的操作)， insert, drop, is_monotonic, is_unique,\n",
    "unique()：计算index中唯一的值。\n",
    "'''\n",
    "series = pd.Series(np.arange(5))\n",
    "data = pd.DataFrame({'a':[1,2,3],'b':[4,5,6]},index=['aa','bb','cc'])\n",
    "s_index = series.index\n",
    "d_index = data.index\n",
    "print s_index,'\\n'\n",
    "print d_index,'\\n'\n",
    "\n",
    "# s_index[1]=2 #错误\n",
    "print s_index.is_monotonic \n",
    "print s_index.unique\n",
    "\n",
    "# insert, 原inset是不变的，产生一个新的index对象\n",
    "print s_index.insert(1,5)\n",
    "print s_index\n",
    "#  drop，同上\n",
    "print s_index.drop(2)\n",
    "print s_index"
   ]
  },
  {
   "cell_type": "code",
   "execution_count": 14,
   "metadata": {
    "collapsed": false
   },
   "outputs": [
    {
     "name": "stdout",
     "output_type": "stream",
     "text": [
      "0    a\n",
      "1    a\n",
      "2    b\n",
      "3    b\n",
      "4    c\n",
      "5    c\n",
      "dtype: object\n",
      "0      a\n",
      "1      b\n",
      "2      b\n",
      "3      c\n",
      "4      c\n",
      "5    NaN\n",
      "dtype: object\n",
      "0          a\n",
      "1    default\n",
      "2          b\n",
      "3    default\n",
      "4          c\n",
      "5    default\n",
      "dtype: object\n",
      "0    a\n",
      "2    b\n",
      "4    c\n",
      "dtype: object\n"
     ]
    }
   ],
   "source": [
    "'''\n",
    "reindex：重新分配索引，\n",
    "常用的方法,method: ffill:前向填充， bfill:后向填充， fill_value: 指定缺失值的默认值\n",
    "对于dataframe, 可以加columns。\n",
    "'''\n",
    "x = pd.Series(['a','b','c'],index=[0,2,4])\n",
    "#同样reindex 产生的仍然是一个copy,同样不影响原来的对象\n",
    "print x.reindex(np.arange(6),method='ffill')\n",
    "print x.reindex(np.arange(6),method='bfill')\n",
    "print x.reindex(np.arange(6),fill_value='default')\n",
    "print x\n"
   ]
  },
  {
   "cell_type": "code",
   "execution_count": 28,
   "metadata": {
    "collapsed": false
   },
   "outputs": [
    {
     "name": "stdout",
     "output_type": "stream",
     "text": [
      "          two  three  four\n",
      "Beijing     1      2     3\n",
      "Shanghai    5      6     7\n",
      "Beijing      0\n",
      "Shanghai     4\n",
      "Hangzhou     8\n",
      "Nanjing     12\n",
      "Name: one, dtype: int64\n",
      "one      0\n",
      "two      1\n",
      "three    2\n",
      "four     3\n",
      "Name: Beijing, dtype: int64\n"
     ]
    }
   ],
   "source": [
    "'''\n",
    "DataFrame中的常用索引方法：\n",
    "data[]:选取某一列\n",
    "data.ix[]:选取某一行\n",
    "data.ix[:,:val]:选取特定的列\n",
    "'''\n",
    "'''\n",
    "DataFrame 中索引的字段 - ix, 可以通过标记选取特定的行和列，适合python风格的编程\n",
    "'''\n",
    "data = pd.DataFrame(np.arange(16).reshape(4,4),\n",
    "                    index=['Beijing','Shanghai','Hangzhou','Nanjing'],columns=['one','two','three','four'])\n",
    "print data.ix[:'Shanghai','two':'four']\n",
    "print data['one'] #没有ix,选取某一列\n",
    "print data.ix['Beijing'] #有ix, 选取某一行\n"
   ]
  },
  {
   "cell_type": "code",
   "execution_count": 37,
   "metadata": {
    "collapsed": false
   },
   "outputs": [
    {
     "name": "stdout",
     "output_type": "stream",
     "text": [
      "    a   b   c\n",
      "0   7 NaN NaN\n",
      "1  11 NaN NaN\n",
      "2  15 NaN NaN\n",
      "    a  b   c\n",
      "0   7  2   9\n",
      "1  11  4  11\n",
      "2  15  6  13\n"
     ]
    }
   ],
   "source": [
    "'''\n",
    "pandas中的缺失值的一些注意点：\n",
    "一般的+,-*,/操作都自动加NaN, 可以通过add,sub,div,mul方法可以自定义fill_value属性值\n",
    "'''\n",
    "data1 = pd.DataFrame(np.arange(6).reshape(3,2),columns=['a','b'])\n",
    "data2 = pd.DataFrame(np.arange(7,13).reshape(3,2),columns=['a','c'])\n",
    "print data1+data2\n",
    "print data1.add(data2,fill_value=1)"
   ]
  },
  {
   "cell_type": "code",
   "execution_count": 44,
   "metadata": {
    "collapsed": false
   },
   "outputs": [
    {
     "name": "stdout",
     "output_type": "stream",
     "text": [
      "          one  two  three  four\n",
      "Beijing     0    1      2     3\n",
      "Shanghai    4    5      6     7\n",
      "Hangzhou    8    9     10    11\n",
      "Nanjing    12   13     14    15\n",
      "                    one            two           three            four\n",
      "Beijing        1.000000       2.718282        7.389056       20.085537\n",
      "Shanghai      54.598150     148.413159      403.428793     1096.633158\n",
      "Hangzhou    2980.957987    8103.083928    22026.465795    59874.141715\n",
      "Nanjing   162754.791419  442413.392009  1202604.284165  3269017.372472\n",
      "one      12\n",
      "two      12\n",
      "three    12\n",
      "four     12\n",
      "dtype: int64\n",
      "Beijing     3\n",
      "Shanghai    3\n",
      "Hangzhou    3\n",
      "Nanjing     3\n",
      "dtype: int64\n",
      "                one        two       three        four\n",
      "Beijing        1.00       2.72        7.39       20.09\n",
      "Shanghai      54.60     148.41      403.43     1096.63\n",
      "Hangzhou    2980.96    8103.08    22026.47    59874.14\n",
      "Nanjing   162754.79  442413.39  1202604.28  3269017.37\n"
     ]
    }
   ],
   "source": [
    "'''\n",
    "pandas中的ufunctions\n",
    "常用的np的函数，以及匿名的函数等等都可以在pandas中使用\n",
    "'''\n",
    "print data\n",
    "print np.exp(data)\n",
    "\n",
    "#使用匿名函数，并且在dataframe中使用apply方法\n",
    "print data.apply(lambda x:x.max()-x.min(),axis=0) #axis=0代表行，因此返回结果是多列的结果\n",
    "print data.apply(lambda x:x.max()-x.min(),axis=1)#axis=1代表列，因此返回结果是多行的结果\n",
    "'''applymap'''\n",
    "# 特定的有效数字\n",
    "f = lambda x:'%.2f'%x\n",
    "print np.exp(data).applymap(f)"
   ]
  },
  {
   "cell_type": "code",
   "execution_count": 58,
   "metadata": {
    "collapsed": false
   },
   "outputs": [
    {
     "name": "stdout",
     "output_type": "stream",
     "text": [
      "2    6\n",
      "1    5\n",
      "3    2\n",
      "0    1\n",
      "dtype: int64\n",
      "0    1\n",
      "1    3\n",
      "2    4\n",
      "3    2\n",
      "dtype: float64\n",
      "          one  two  three  four\n",
      "Beijing     0    1      2     3\n",
      "Shanghai    4    5      6     7\n",
      "Hangzhou    8    9     10    11\n",
      "Nanjing    12   13     14    15\n",
      "          one  two  three  four\n",
      "Nanjing    12   13     14    15\n",
      "Hangzhou    8    9     10    11\n",
      "Shanghai    4    5      6     7\n",
      "Beijing     0    1      2     3\n",
      "0    1.5\n",
      "1    3.5\n",
      "2    5.0\n",
      "3    3.5\n",
      "4    1.5\n",
      "5    6.0\n",
      "6    7.0\n",
      "dtype: float64\n",
      "0    1\n",
      "1    3\n",
      "2    5\n",
      "3    4\n",
      "4    2\n",
      "5    6\n",
      "6    7\n",
      "dtype: float64\n",
      "0    1\n",
      "1    3\n",
      "2    5\n",
      "3    3\n",
      "4    1\n",
      "5    6\n",
      "6    7\n",
      "dtype: float64\n",
      "0    2\n",
      "1    4\n",
      "2    5\n",
      "3    4\n",
      "4    2\n",
      "5    6\n",
      "6    7\n",
      "dtype: float64\n"
     ]
    }
   ],
   "source": [
    "'''\n",
    "排序和排名的几个注意事项\n",
    "'''\n",
    "#series: sort_values, rank\n",
    "series = pd.Series([1,5,6,2])\n",
    "print series.sort_values(ascending=False)\n",
    "print series.rank()\n",
    "#dataframe: 通过指定sort_values来指定要排列的,可以指定多列，前面声明的优先排序\n",
    "print data\n",
    "print data.sort_values(by='three',ascending=False)\n",
    "\n",
    "\n",
    "'''\n",
    "series 和 dataframe 中如果有元素rank相同的情况下，可以有多个方法来指定rank规则：\n",
    "method:'average','min','max','first'\n",
    "'''\n",
    "s = pd.Series([1,2,3,2,1,5,6])\n",
    "print s.rank('average')\n",
    "print s.rank('first')\n",
    "print s.rank('min')\n",
    "print s.rank('max')"
   ]
  },
  {
   "cell_type": "code",
   "execution_count": 16,
   "metadata": {
    "collapsed": false
   },
   "outputs": [
    {
     "name": "stdout",
     "output_type": "stream",
     "text": [
      "count     16\n",
      "unique     3\n",
      "top        a\n",
      "freq       8\n",
      "dtype: object\n",
      "              0         1         2         3         4\n",
      "count  4.000000  4.000000  4.000000  4.000000  4.000000\n",
      "mean   0.294564 -0.243041 -0.240538 -0.548498 -0.049458\n",
      "std    1.477318  0.941146  0.363250  0.986515  0.785237\n",
      "min   -1.914122 -1.413408 -0.780044 -1.628139 -1.082347\n",
      "25%    0.185383 -0.634577 -0.290412 -1.263234 -0.418512\n",
      "50%    0.956935 -0.213137 -0.089210 -0.446887  0.082302\n",
      "75%    1.066116  0.178399 -0.039336  0.267850  0.451356\n",
      "max    1.178507  0.867518 -0.003686  0.327920  0.719912\n",
      "\n",
      "0   -0.346128\n",
      "1   -0.287327\n",
      "2    0.192182\n",
      "3   -0.188303\n",
      "dtype: float64\n",
      "\n",
      "0    2.182468\n",
      "1    0.885755\n",
      "2    0.131951\n",
      "3    0.973211\n",
      "4    0.616598\n",
      "dtype: float64\n",
      "\n",
      "0    0.850101\n",
      "1    1.350952\n",
      "2    0.187005\n",
      "3    1.367978\n",
      "dtype: float64\n",
      "\n",
      "0   -1.960649\n",
      "1   -0.182873\n",
      "2   -1.884707\n",
      "3   -0.200628\n",
      "4   -0.798866\n",
      "dtype: float64\n",
      "\n",
      "          0         1         2         3         4\n",
      "0       NaN       NaN       NaN       NaN       NaN\n",
      "1  3.092628 -1.038442 -0.728825 -1.389426  0.358074\n",
      "2 -0.293289  1.362101  0.776358  1.469520 -0.917146\n",
      "3  0.143435  0.918825 -0.123514 -1.956058 -0.885113\n",
      "\n",
      "          0          1          2         3         4\n",
      "0       NaN        NaN        NaN       NaN       NaN\n",
      "1 -1.615691   2.769428  14.229627 -5.606449  0.989598\n",
      "2 -0.248865  -0.963700  -0.995274 -1.287246 -1.273970\n",
      "3  0.162033 -17.908325  33.505292 -5.965050  4.487629\n",
      "==============================\n",
      "相关系数和协方差\n",
      "\n",
      "          0         1         2         3         4\n",
      "0 -1.914122 -0.374966 -0.051219  0.247826  0.361838\n",
      "1  1.178507 -1.413408 -0.780044 -1.141600  0.719912\n",
      "2  0.885217 -0.051307 -0.003686  0.327920 -0.197234\n",
      "3  1.028652  0.867518 -0.127201 -1.628139 -1.082347\n",
      "\n",
      "          0         1         2         3         4\n",
      "0  1.000000  0.044434 -0.417379 -0.585060 -0.308569\n",
      "1  0.044434  1.000000  0.758301 -0.158641 -0.960784\n",
      "2 -0.417379  0.758301  1.000000  0.517144 -0.571780\n",
      "3 -0.585060 -0.158641  0.517144  1.000000  0.368703\n",
      "4 -0.308569 -0.960784 -0.571780  0.368703  1.000000\n",
      "\n",
      "          0         1         2         3         4\n",
      "0  2.182468  0.061780 -0.223981 -0.852663 -0.357954\n",
      "1  0.061780  0.885755  0.259241 -0.147291 -0.710041\n",
      "2 -0.223981  0.259241  0.131951  0.185320 -0.163093\n",
      "3 -0.852663 -0.147291  0.185320  0.973211  0.285615\n",
      "4 -0.357954 -0.710041 -0.163093  0.285615  0.616598\n"
     ]
    }
   ],
   "source": [
    "'''\n",
    "汇总和计算的相关运算\n",
    "'''\n",
    "#describe，一种是数值型的，另一种是非数值型的\n",
    "sery = pd.Series(['a','a','b','c']*4)\n",
    "data = pd.DataFrame(np.random.randn(4,5),columns=np.arange(5))\n",
    "print sery.describe()#非数值型的\n",
    "print data.describe() #数值型的\n",
    "\n",
    "'''\n",
    "dataframe 数据处理的一些方法:count,min,argmin,idxmin,quantile,sum,mean,median,mad,var,std\n",
    "skew:三阶矩，偏度\n",
    "kurt:四阶矩，峰度\n",
    "diff:计算一阶差分\n",
    "pct_change:计算百分数变化\n",
    "'''\n",
    "print '\\n',data.mean(axis=1)\n",
    "print '\\n',data.var() #返回一系列列向量\n",
    "print '\\n',data.var(axis=1)#返回行向量\n",
    "print '\\n',data.skew()\n",
    "print '\\n',data.diff()\n",
    "print '\\n',data.pct_change()\n",
    "\n",
    "'''\n",
    "相关系数和协方差\n",
    "'''\n",
    "print '=============================='\n",
    "print '相关系数和协方差'\n",
    "print '\\n',data\n",
    "print '\\n',data.corr()\n",
    "print '\\n',data.cov()\n"
   ]
  },
  {
   "cell_type": "code",
   "execution_count": 20,
   "metadata": {
    "collapsed": false
   },
   "outputs": [
    {
     "name": "stdout",
     "output_type": "stream",
     "text": [
      "\n",
      "['a' 'b' 'c']\n",
      "\n",
      "b    2\n",
      "a    2\n",
      "c    1\n",
      "dtype: int64\n",
      "\n",
      "0     True\n",
      "1     True\n",
      "2    False\n",
      "3    False\n",
      "4    False\n",
      "dtype: bool\n"
     ]
    }
   ],
   "source": [
    "'''\n",
    "得到唯一：unique\n",
    "统计元素发生的频率：value_counts\n",
    "isin: 返回是否包含与的值序列的布尔型的数组\n",
    "'''\n",
    "sery = pd.Series(['a','a','b','c','b'])\n",
    "print '\\n',sery.unique()\n",
    "print '\\n',sery.value_counts()\n",
    "print '\\n',sery.isin(['a'])"
   ]
  },
  {
   "cell_type": "code",
   "execution_count": 12,
   "metadata": {
    "collapsed": false
   },
   "outputs": [
    {
     "name": "stdout",
     "output_type": "stream",
     "text": [
      "0     0\n",
      "1   NaN\n",
      "2    10\n",
      "3   NaN\n",
      "dtype: float64 \n",
      "\n",
      "    4  5   6\n",
      "0   1  2 NaN\n",
      "1 NaN  4 NaN \n",
      "\n",
      "=========================\n",
      "0    False\n",
      "1     True\n",
      "2    False\n",
      "3     True\n",
      "dtype: bool \n",
      "\n",
      "       4      5     6\n",
      "0  False  False  True\n",
      "1   True  False  True \n",
      "\n",
      "=========================\n",
      "0     0\n",
      "2    10\n",
      "dtype: float64 \n",
      "\n",
      "Empty DataFrame\n",
      "Columns: [4, 5, 6]\n",
      "Index: [] n\n",
      "   5\n",
      "0  2\n",
      "1  4 n\n",
      "    4  5   6\n",
      "0   1  2 NaN\n",
      "1 NaN  4 NaN \n",
      "\n",
      "=========================\n",
      "0      0\n",
      "1    111\n",
      "2     10\n",
      "3    111\n",
      "dtype: float64\n",
      "0     0\n",
      "1    10\n",
      "2    10\n",
      "3   NaN\n",
      "dtype: float64\n",
      "0          0\n",
      "1    filling\n",
      "2         10\n",
      "3    filling\n",
      "dtype: object\n"
     ]
    }
   ],
   "source": [
    "'''\n",
    "pandas 处理NaN的情况\n",
    "'''\n",
    "sery = pd.Series([0,np.nan,10,np.nan])\n",
    "data = pd.DataFrame([[1,2,np.nan],[np.nan,4,np.nan]],columns=[4,5,6])\n",
    "print sery,'\\n'\n",
    "print data,'\\n'\n",
    "print '========================='\n",
    "# isnull, notnull 是isnull的反面\n",
    "print pd.isnull(sery),'\\n'\n",
    "print pd.isnull(data),'\\n'\n",
    "print '========================='\n",
    "#dropna,默认返回一个新的对象，不影响原来的对象，但是dataframe对象默认是drop掉含有NaN的行\n",
    "print sery.dropna(),'\\n'\n",
    "print data.dropna(),'n'\n",
    "print data.dropna(axis=1),'n'\n",
    "print data,'\\n'\n",
    "print '========================='\n",
    "# fillna: 处理NaN的方法，value:填充的值或者字典， method:插值方法，默认是'ffill', inplace:是否在原对象上处理不产生新的对象，\n",
    "#                      limit:填充limit的最大数量\n",
    "print sery.fillna(value=111)\n",
    "print sery.fillna(method='bfill')\n",
    "sery.fillna(value='filling',inplace=True)\n",
    "print sery"
   ]
  },
  {
   "cell_type": "code",
   "execution_count": 24,
   "metadata": {
    "collapsed": false
   },
   "outputs": [
    {
     "name": "stdout",
     "output_type": "stream",
     "text": [
      "out1  1   -1.650065\n",
      "      2    1.177219\n",
      "out2  1   -2.316721\n",
      "      2   -1.126583\n",
      "      3   -1.650878\n",
      "out3  1   -1.914384\n",
      "dtype: float64 \n",
      "\n",
      "MultiIndex(levels=[[u'out1', u'out2', u'out3'], [1, 2, 3]],\n",
      "           labels=[[0, 0, 1, 1, 1, 2], [0, 1, 0, 1, 2, 0]]) \n",
      "\n",
      "===================\n",
      "             1         2         3\n",
      "out1 -1.650065  1.177219       NaN\n",
      "out2 -2.316721 -1.126583 -1.650878\n",
      "out3 -1.914384       NaN       NaN \n",
      "\n",
      "out1  1   -1.650065\n",
      "      2    1.177219\n",
      "out2  1   -2.316721\n",
      "      2   -1.126583\n",
      "      3   -1.650878\n",
      "out3  1   -1.914384\n",
      "dtype: float64 \n",
      "\n",
      "===================\n",
      "          1         2\n",
      "0 -0.261788 -0.866365\n",
      "1 -0.097630  1.210773\n",
      "2 -0.390054 -0.183233 \n",
      "\n",
      "       out1                out2      out3\n",
      "          1         2         1         1\n",
      "0 -0.261788 -0.866365  0.928228  0.608043\n",
      "1 -0.097630  1.210773 -1.145540  0.185983\n",
      "2 -0.390054 -0.183233 -0.569747  1.491155\n"
     ]
    },
    {
     "data": {
      "text/html": [
       "<div>\n",
       "<table border=\"1\" class=\"dataframe\">\n",
       "  <thead>\n",
       "    <tr>\n",
       "      <th>outcolumn1</th>\n",
       "      <th colspan=\"2\" halign=\"left\">out1</th>\n",
       "      <th>out2</th>\n",
       "      <th>out3</th>\n",
       "    </tr>\n",
       "    <tr>\n",
       "      <th>outcolumn2</th>\n",
       "      <th>1</th>\n",
       "      <th>2</th>\n",
       "      <th>1</th>\n",
       "      <th>1</th>\n",
       "    </tr>\n",
       "  </thead>\n",
       "  <tbody>\n",
       "    <tr>\n",
       "      <th>0</th>\n",
       "      <td>-0.261788</td>\n",
       "      <td>-0.866365</td>\n",
       "      <td>0.928228</td>\n",
       "      <td>0.608043</td>\n",
       "    </tr>\n",
       "    <tr>\n",
       "      <th>1</th>\n",
       "      <td>-0.097630</td>\n",
       "      <td>1.210773</td>\n",
       "      <td>-1.145540</td>\n",
       "      <td>0.185983</td>\n",
       "    </tr>\n",
       "    <tr>\n",
       "      <th>2</th>\n",
       "      <td>-0.390054</td>\n",
       "      <td>-0.183233</td>\n",
       "      <td>-0.569747</td>\n",
       "      <td>1.491155</td>\n",
       "    </tr>\n",
       "  </tbody>\n",
       "</table>\n",
       "</div>"
      ],
      "text/plain": [
       "outcolumn1      out1                out2      out3\n",
       "outcolumn2         1         2         1         1\n",
       "0          -0.261788 -0.866365  0.928228  0.608043\n",
       "1          -0.097630  1.210773 -1.145540  0.185983\n",
       "2          -0.390054 -0.183233 -0.569747  1.491155"
      ]
     },
     "execution_count": 24,
     "metadata": {},
     "output_type": "execute_result"
    }
   ],
   "source": [
    "'''\n",
    "MultiIndex:可以更方便的view表哥，并且有多层的index\n",
    "'''\n",
    "#构造多层次的series\n",
    "sery = pd.Series(np.random.randn(6),index=[['out1','out1','out2','out2','out2','out3'],[1,2,1,2,3,1]])\n",
    "print sery,'\\n'\n",
    "print sery.index,'\\n'\n",
    "print '==================='\n",
    "#unstack 将多层次的series 转换成dataframe,缺失的用NaN\n",
    "print sery.unstack(),'\\n'\n",
    "print sery,'\\n'\n",
    "print '==================='\n",
    "# dataframe 的columns同样是可以多层次的\n",
    "data = pd.DataFrame(np.random.randn(3,4),columns=[['out1','out1','out2','out3'],[1,2,1,1]])\n",
    "print data.ix[:,'out1'],'\\n'#访问外层的某一column\n",
    "print data\n",
    "data.columns.names=['outcolumn1','outcolumn2']\n",
    "data\n"
   ]
  },
  {
   "cell_type": "code",
   "execution_count": 37,
   "metadata": {
    "collapsed": false
   },
   "outputs": [
    {
     "name": "stdout",
     "output_type": "stream",
     "text": [
      "         11        22        33        44\n",
      "0  1.632350 -1.425300 -0.247113 -0.327473\n",
      "1 -0.336152 -0.408830  1.727738  0.334244\n",
      "2  2.350108 -0.741357 -1.312581  0.629975\n",
      "3  0.786893  0.838154 -0.198521  0.320691 \n",
      "\n",
      "11    1.632350\n",
      "22   -1.425300\n",
      "33   -0.247113\n",
      "44   -0.327473\n",
      "Name: 0, dtype: float64 \n",
      "\n",
      "         11        22        33        44   55\n",
      "0  1.632350 -1.425300 -0.247113 -0.327473  one\n",
      "1 -0.336152 -0.408830  1.727738  0.334244  one\n",
      "2  2.350108 -0.741357 -1.312581  0.629975  two\n",
      "3  0.786893  0.838154 -0.198521  0.320691  two \n",
      "\n",
      "                     11        22        44\n",
      "33        55                               \n",
      "-0.247113 one  1.632350 -1.425300 -0.327473\n",
      " 1.727738 one -0.336152 -0.408830  0.334244\n",
      "-1.312581 two  2.350108 -0.741357  0.629975\n",
      "-0.198521 two  0.786893  0.838154  0.320691\n"
     ]
    }
   ],
   "source": [
    "# DataFrame中将将列和index互换:set_index,reset_index(与set_index效果相反)\n",
    "frame = pd.DataFrame(np.random.randn(4,4),columns=[11,22,33,44])\n",
    "print frame,'\\n'\n",
    "print frame.ix[0,:],'\\n' #选择某一行\n",
    "frame[55] = pd.Series(['one','one','two','two'])#插入一列\n",
    "print frame,'\\n'\n",
    "print frame.set_index([33,55])\n"
   ]
  },
  {
   "cell_type": "code",
   "execution_count": 52,
   "metadata": {
    "collapsed": false
   },
   "outputs": [
    {
     "name": "stdout",
     "output_type": "stream",
     "text": [
      " 3    0\n",
      "-1    1\n",
      " 1    2\n",
      " 2    3\n",
      "dtype: int64 \n",
      "\n",
      "3 \n",
      "\n",
      "==================\n",
      "2 \n",
      "\n"
     ]
    },
    {
     "data": {
      "text/html": [
       "<div>\n",
       "<table border=\"1\" class=\"dataframe\">\n",
       "  <thead>\n",
       "    <tr style=\"text-align: right;\">\n",
       "      <th></th>\n",
       "      <th>22</th>\n",
       "      <th>1</th>\n",
       "    </tr>\n",
       "  </thead>\n",
       "  <tbody>\n",
       "    <tr>\n",
       "      <th>0</th>\n",
       "      <td>-0.216302</td>\n",
       "      <td>1.224151</td>\n",
       "    </tr>\n",
       "    <tr>\n",
       "      <th>1</th>\n",
       "      <td>0.374550</td>\n",
       "      <td>1.186882</td>\n",
       "    </tr>\n",
       "    <tr>\n",
       "      <th>2</th>\n",
       "      <td>0.031964</td>\n",
       "      <td>-2.654386</td>\n",
       "    </tr>\n",
       "    <tr>\n",
       "      <th>3</th>\n",
       "      <td>-0.744022</td>\n",
       "      <td>-0.254662</td>\n",
       "    </tr>\n",
       "  </tbody>\n",
       "</table>\n",
       "</div>"
      ],
      "text/plain": [
       "         22        1 \n",
       "0 -0.216302  1.224151\n",
       "1  0.374550  1.186882\n",
       "2  0.031964 -2.654386\n",
       "3 -0.744022 -0.254662"
      ]
     },
     "execution_count": 52,
     "metadata": {},
     "output_type": "execute_result"
    }
   ],
   "source": [
    "'''\n",
    "对于整数索引，有关于标签和位置索引 歧义的选择，同一这种情况是基于标签的\n",
    "'''\n",
    "x = pd.Series(np.arange(4),index=[3,-1,1,2])\n",
    "print x,'\\n'\n",
    "print x[2],'\\n'  #输出是3，不是2，则基于标签的\n",
    "print '=================='\n",
    "#如果要基于位置（0，1，2，3...）则可以使用series的iloc，在dataframe中使用irow和icol或者iloc[]来定位元素\n",
    "print x.iloc[2],'\\n'\n",
    "data = pd.DataFrame(np.random.randn(4,4),columns=[22,1,23,4])\n",
    "data.iloc[:,:2]"
   ]
  },
  {
   "cell_type": "code",
   "execution_count": null,
   "metadata": {
    "collapsed": true
   },
   "outputs": [],
   "source": []
  }
 ],
 "metadata": {
  "kernelspec": {
   "display_name": "Python 2",
   "language": "python",
   "name": "python2"
  },
  "language_info": {
   "codemirror_mode": {
    "name": "ipython",
    "version": 2
   },
   "file_extension": ".py",
   "mimetype": "text/x-python",
   "name": "python",
   "nbconvert_exporter": "python",
   "pygments_lexer": "ipython2",
   "version": "2.7.11"
  }
 },
 "nbformat": 4,
 "nbformat_minor": 0
}
