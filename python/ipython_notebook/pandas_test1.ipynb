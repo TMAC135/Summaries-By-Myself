{
 "cells": [
  {
   "cell_type": "code",
   "execution_count": 1,
   "metadata": {
    "collapsed": true
   },
   "outputs": [],
   "source": [
    "import pandas as pd\n",
    "import numpy as np"
   ]
  },
  {
   "cell_type": "code",
   "execution_count": 12,
   "metadata": {
    "collapsed": false
   },
   "outputs": [
    {
     "name": "stdout",
     "output_type": "stream",
     "text": [
      "0    0\n",
      "1    1\n",
      "2    2\n",
      "3    3\n",
      "4    4\n",
      "5    5\n",
      "dtype: int64\n"
     ]
    },
    {
     "data": {
      "text/plain": [
       "DatetimeIndex(['2016-03-01', '2016-03-02', '2016-03-03', '2016-03-04',\n",
       "               '2016-03-05', '2016-03-06'],\n",
       "              dtype='datetime64[ns]', freq='D')"
      ]
     },
     "execution_count": 12,
     "metadata": {},
     "output_type": "execute_result"
    }
   ],
   "source": [
    "x = pd.Series(np.arange(6))\n",
    "print x\n",
    "mydates = pd.date_range('20160301',periods=6)\n",
    "mydates\n",
    "\n"
   ]
  },
  {
   "cell_type": "code",
   "execution_count": 20,
   "metadata": {
    "collapsed": false
   },
   "outputs": [
    {
     "data": {
      "text/html": [
       "<div>\n",
       "<table border=\"1\" class=\"dataframe\">\n",
       "  <thead>\n",
       "    <tr style=\"text-align: right;\">\n",
       "      <th></th>\n",
       "      <th>a</th>\n",
       "      <th>b</th>\n",
       "      <th>c</th>\n",
       "    </tr>\n",
       "  </thead>\n",
       "  <tbody>\n",
       "    <tr>\n",
       "      <th>0</th>\n",
       "      <td>1</td>\n",
       "      <td>4</td>\n",
       "      <td>7</td>\n",
       "    </tr>\n",
       "    <tr>\n",
       "      <th>1</th>\n",
       "      <td>2</td>\n",
       "      <td>5</td>\n",
       "      <td>8</td>\n",
       "    </tr>\n",
       "    <tr>\n",
       "      <th>2</th>\n",
       "      <td>3</td>\n",
       "      <td>6</td>\n",
       "      <td>9</td>\n",
       "    </tr>\n",
       "  </tbody>\n",
       "</table>\n",
       "</div>"
      ],
      "text/plain": [
       "   a  b  c\n",
       "0  1  4  7\n",
       "1  2  5  8\n",
       "2  3  6  9"
      ]
     },
     "execution_count": 20,
     "metadata": {},
     "output_type": "execute_result"
    }
   ],
   "source": [
    "dict = {'a':[1,2,3],\"b\":[4,5,6],\"c\":[7,8,9]}\n",
    "df = pd.DataFrame(dict)\n",
    "df"
   ]
  },
  {
   "cell_type": "code",
   "execution_count": 21,
   "metadata": {
    "collapsed": false
   },
   "outputs": [
    {
     "data": {
      "text/html": [
       "<div>\n",
       "<table border=\"1\" class=\"dataframe\">\n",
       "  <thead>\n",
       "    <tr style=\"text-align: right;\">\n",
       "      <th></th>\n",
       "      <th>a</th>\n",
       "      <th>b</th>\n",
       "      <th>c</th>\n",
       "    </tr>\n",
       "  </thead>\n",
       "  <tbody>\n",
       "    <tr>\n",
       "      <th>0</th>\n",
       "      <td>1</td>\n",
       "      <td>4</td>\n",
       "      <td>7</td>\n",
       "    </tr>\n",
       "  </tbody>\n",
       "</table>\n",
       "</div>"
      ],
      "text/plain": [
       "   a  b  c\n",
       "0  1  4  7"
      ]
     },
     "execution_count": 21,
     "metadata": {},
     "output_type": "execute_result"
    }
   ],
   "source": [
    "df[:1]"
   ]
  },
  {
   "cell_type": "code",
   "execution_count": 25,
   "metadata": {
    "collapsed": false
   },
   "outputs": [
    {
     "data": {
      "text/plain": [
       "0    1\n",
       "1    2\n",
       "2    3\n",
       "Name: a, dtype: int64"
      ]
     },
     "execution_count": 25,
     "metadata": {},
     "output_type": "execute_result"
    }
   ],
   "source": [
    "df['a']"
   ]
  },
  {
   "cell_type": "code",
   "execution_count": 26,
   "metadata": {
    "collapsed": false
   },
   "outputs": [
    {
     "data": {
      "text/html": [
       "<div>\n",
       "<table border=\"1\" class=\"dataframe\">\n",
       "  <thead>\n",
       "    <tr style=\"text-align: right;\">\n",
       "      <th></th>\n",
       "      <th>b</th>\n",
       "      <th>c</th>\n",
       "    </tr>\n",
       "  </thead>\n",
       "  <tbody>\n",
       "    <tr>\n",
       "      <th>0</th>\n",
       "      <td>4</td>\n",
       "      <td>7</td>\n",
       "    </tr>\n",
       "    <tr>\n",
       "      <th>1</th>\n",
       "      <td>5</td>\n",
       "      <td>8</td>\n",
       "    </tr>\n",
       "    <tr>\n",
       "      <th>2</th>\n",
       "      <td>6</td>\n",
       "      <td>9</td>\n",
       "    </tr>\n",
       "  </tbody>\n",
       "</table>\n",
       "</div>"
      ],
      "text/plain": [
       "   b  c\n",
       "0  4  7\n",
       "1  5  8\n",
       "2  6  9"
      ]
     },
     "execution_count": 26,
     "metadata": {},
     "output_type": "execute_result"
    }
   ],
   "source": [
    "# 访问某几列\n",
    "df.loc[:,['b','c']]"
   ]
  },
  {
   "cell_type": "code",
   "execution_count": 27,
   "metadata": {
    "collapsed": false
   },
   "outputs": [
    {
     "data": {
      "text/plain": [
       "4"
      ]
     },
     "execution_count": 27,
     "metadata": {},
     "output_type": "execute_result"
    }
   ],
   "source": [
    "# 访问某个特定值\n",
    "df.loc[0,'b']"
   ]
  },
  {
   "cell_type": "code",
   "execution_count": 28,
   "metadata": {
    "collapsed": false
   },
   "outputs": [
    {
     "data": {
      "text/html": [
       "<div>\n",
       "<table border=\"1\" class=\"dataframe\">\n",
       "  <thead>\n",
       "    <tr style=\"text-align: right;\">\n",
       "      <th></th>\n",
       "      <th>a</th>\n",
       "      <th>b</th>\n",
       "      <th>c</th>\n",
       "    </tr>\n",
       "  </thead>\n",
       "  <tbody>\n",
       "    <tr>\n",
       "      <th>0</th>\n",
       "      <td>NaN</td>\n",
       "      <td>NaN</td>\n",
       "      <td>7</td>\n",
       "    </tr>\n",
       "    <tr>\n",
       "      <th>1</th>\n",
       "      <td>NaN</td>\n",
       "      <td>NaN</td>\n",
       "      <td>8</td>\n",
       "    </tr>\n",
       "    <tr>\n",
       "      <th>2</th>\n",
       "      <td>NaN</td>\n",
       "      <td>6</td>\n",
       "      <td>9</td>\n",
       "    </tr>\n",
       "  </tbody>\n",
       "</table>\n",
       "</div>"
      ],
      "text/plain": [
       "    a   b  c\n",
       "0 NaN NaN  7\n",
       "1 NaN NaN  8\n",
       "2 NaN   6  9"
      ]
     },
     "execution_count": 28,
     "metadata": {},
     "output_type": "execute_result"
    }
   ],
   "source": [
    "# 选取某些特定的元素\n",
    "df[df > 5]"
   ]
  },
  {
   "cell_type": "code",
   "execution_count": 32,
   "metadata": {
    "collapsed": false
   },
   "outputs": [
    {
     "data": {
      "text/html": [
       "<div>\n",
       "<table border=\"1\" class=\"dataframe\">\n",
       "  <thead>\n",
       "    <tr style=\"text-align: right;\">\n",
       "      <th></th>\n",
       "      <th>a</th>\n",
       "      <th>b</th>\n",
       "      <th>c</th>\n",
       "      <th>d</th>\n",
       "    </tr>\n",
       "  </thead>\n",
       "  <tbody>\n",
       "    <tr>\n",
       "      <th>0</th>\n",
       "      <td>1</td>\n",
       "      <td>4</td>\n",
       "      <td>7</td>\n",
       "      <td>10</td>\n",
       "    </tr>\n",
       "    <tr>\n",
       "      <th>1</th>\n",
       "      <td>2</td>\n",
       "      <td>5</td>\n",
       "      <td>8</td>\n",
       "      <td>11</td>\n",
       "    </tr>\n",
       "    <tr>\n",
       "      <th>2</th>\n",
       "      <td>3</td>\n",
       "      <td>6</td>\n",
       "      <td>9</td>\n",
       "      <td>12</td>\n",
       "    </tr>\n",
       "  </tbody>\n",
       "</table>\n",
       "</div>"
      ],
      "text/plain": [
       "   a  b  c   d\n",
       "0  1  4  7  10\n",
       "1  2  5  8  11\n",
       "2  3  6  9  12"
      ]
     },
     "execution_count": 32,
     "metadata": {},
     "output_type": "execute_result"
    }
   ],
   "source": [
    "# 增加一列\n",
    "df['d'] = [10,11,12]\n",
    "df"
   ]
  },
  {
   "cell_type": "code",
   "execution_count": 40,
   "metadata": {
    "collapsed": false
   },
   "outputs": [
    {
     "data": {
      "text/html": [
       "<div>\n",
       "<table border=\"1\" class=\"dataframe\">\n",
       "  <thead>\n",
       "    <tr style=\"text-align: right;\">\n",
       "      <th></th>\n",
       "      <th>a</th>\n",
       "      <th>b</th>\n",
       "      <th>c</th>\n",
       "      <th>d</th>\n",
       "    </tr>\n",
       "  </thead>\n",
       "  <tbody>\n",
       "    <tr>\n",
       "      <th>0</th>\n",
       "      <td>1</td>\n",
       "      <td>200</td>\n",
       "      <td>7</td>\n",
       "      <td>10</td>\n",
       "    </tr>\n",
       "    <tr>\n",
       "      <th>1</th>\n",
       "      <td>2</td>\n",
       "      <td>200</td>\n",
       "      <td>8</td>\n",
       "      <td>11</td>\n",
       "    </tr>\n",
       "    <tr>\n",
       "      <th>2</th>\n",
       "      <td>3</td>\n",
       "      <td>200</td>\n",
       "      <td>9</td>\n",
       "      <td>12</td>\n",
       "    </tr>\n",
       "  </tbody>\n",
       "</table>\n",
       "</div>"
      ],
      "text/plain": [
       "   a    b  c   d\n",
       "0  1  200  7  10\n",
       "1  2  200  8  11\n",
       "2  3  200  9  12"
      ]
     },
     "execution_count": 40,
     "metadata": {},
     "output_type": "execute_result"
    }
   ],
   "source": [
    "df.b = 200\n",
    "df"
   ]
  },
  {
   "cell_type": "code",
   "execution_count": 24,
   "metadata": {
    "collapsed": false
   },
   "outputs": [
    {
     "name": "stdout",
     "output_type": "stream",
     "text": [
      "         6         7         8         9         10\n",
      "0  0.727982  0.003564  1.263023  1.450848 -1.800936\n",
      "1 -0.790920 -1.188590 -1.251455 -0.157680 -1.000837\n",
      "2 -0.361275 -0.007689 -0.244521 -0.857020  0.139199\n",
      "3  0.358751  0.531784 -0.140076 -0.152706  1.391226\n"
     ]
    }
   ],
   "source": [
    "# DataFrame的几种构造方法\n",
    "# 1:自定义列\n",
    "df2 = pd.DataFrame(np.random.randn(4,5),columns=range(6,11))\n",
    "print df2"
   ]
  },
  {
   "cell_type": "code",
   "execution_count": 23,
   "metadata": {
    "collapsed": false
   },
   "outputs": [
    {
     "name": "stdout",
     "output_type": "stream",
     "text": [
      "{1: [0, 1, 2, 3, 4, 5], 2: [0, 1, 2, 3, 4, 5], 3: [0, 1, 2, 3, 4, 5]}\n",
      "   1  2  3\n",
      "0  0  0  0\n",
      "1  1  1  1\n",
      "2  2  2  2\n",
      "3  3  3  3\n",
      "4  4  4  4\n",
      "5  5  5  5\n"
     ]
    }
   ],
   "source": [
    "# 2:根据已知字典定义，每个字典的键值堆就是一列,注意此时的value不是scalar\n",
    "dict = {i:[j for j in range(6)] for i in xrange(1,4)}\n",
    "print dict\n",
    "df3 = pd.DataFrame(data=dict)\n",
    "print df3"
   ]
  },
  {
   "cell_type": "code",
   "execution_count": 25,
   "metadata": {
    "collapsed": false
   },
   "outputs": [
    {
     "name": "stdout",
     "output_type": "stream",
     "text": [
      "   0  1  2  3  4\n",
      "1  1  1  1  1  1\n",
      "2  1  1  1  1  1\n",
      "3  1  1  1  1  1\n"
     ]
    }
   ],
   "source": [
    "# 3: 根据字典创建，但是value 是scalar,需要加index，因为index默认是np.arange(n)的\n",
    "dict2 = {i:1 for i in range(5)}\n",
    "df4 = pd.DataFrame(dict2,index=range(1,4))\n",
    "print df4"
   ]
  },
  {
   "cell_type": "code",
   "execution_count": 35,
   "metadata": {
    "collapsed": false
   },
   "outputs": [
    {
     "name": "stdout",
     "output_type": "stream",
     "text": [
      "         6         7         8         9         10\n",
      "0  0.727982  0.003564  1.263023  1.450848 -1.800936\n",
      "1 -0.790920 -1.188590 -1.251455 -0.157680 -1.000837\n",
      "2 -0.361275 -0.007689 -0.244521 -0.857020  0.139199\n",
      "3  0.358751  0.531784 -0.140076 -0.152706  1.391226\n",
      "0    0.003564\n",
      "1   -1.188590\n",
      "2   -0.007689\n",
      "3    0.531784\n",
      "Name: 7, dtype: float64\n",
      "6    -0.361275\n",
      "7    -0.007689\n",
      "8    -0.244521\n",
      "9    -0.857020\n",
      "10    0.139199\n",
      "Name: 2, dtype: float64\n",
      "6   -0.790920\n",
      "8   -1.251455\n",
      "Name: 1, dtype: float64\n",
      "          6         8\n",
      "0  0.727982  1.263023\n",
      "1 -0.790920 -1.251455\n",
      "2 -0.361275 -0.244521\n",
      "3  0.358751 -0.140076\n"
     ]
    }
   ],
   "source": [
    "# 选择DataFrame中的元素，选择df2做例子 --Select by label\n",
    "print df2\n",
    "# 选择一列\n",
    "print df2[7]\n",
    "# 选择一行,返回的是Series\n",
    "print df2.loc[2]\n",
    "# 选取一行的特定几列\n",
    "print df2.loc[1,[6,8]]\n",
    "# 选取特定的几列\n",
    "print df2.loc[:,[6,8]]"
   ]
  },
  {
   "cell_type": "code",
   "execution_count": 47,
   "metadata": {
    "collapsed": false
   },
   "outputs": [
    {
     "name": "stdout",
     "output_type": "stream",
     "text": [
      "         6         7         8         9         10\n",
      "0  0.727982  0.003564  1.263023  1.450848 -1.800936\n",
      "1 -0.790920 -1.188590 -1.251455 -0.157680 -1.000837\n",
      "2 -0.361275 -0.007689 -0.244521 -0.857020  0.139199\n",
      "3  0.358751  0.531784 -0.140076 -0.152706  1.391226\n",
      "0    1.263023\n",
      "1   -1.251455\n",
      "2   -0.244521\n",
      "3   -0.140076\n",
      "Name: 8, dtype: float64\n",
      "6     0.727982\n",
      "7     0.003564\n",
      "8     1.263023\n",
      "9     1.450848\n",
      "10   -1.800936\n",
      "Name: 0, dtype: float64\n",
      "         8         9         10\n",
      "0  1.263023  1.450848 -1.800936\n",
      "1 -1.251455 -0.157680 -1.000837\n"
     ]
    }
   ],
   "source": [
    "# 另外选择元素的问题，-- Select by position\n",
    "print df2\n",
    "# 选择某一列,注意此时的2代表的是index了，不是key了\n",
    "print df2.iloc[:,2]#第三列\n",
    "# 选择某一行\n",
    "print df2.iloc[0,:]\n",
    "# 选取特定的一段\n",
    "print df2.iloc[0:2,2:5]"
   ]
  },
  {
   "cell_type": "code",
   "execution_count": 55,
   "metadata": {
    "collapsed": false
   },
   "outputs": [
    {
     "name": "stdout",
     "output_type": "stream",
     "text": [
      "         6         7         8         9         10\n",
      "0  0.727982  0.003564  1.263023  1.450848 -1.800936\n",
      "1 -0.790920 -1.188590 -1.251455 -0.157680 -1.000837\n",
      "2 -0.361275 -0.007689 -0.244521 -0.857020  0.139199\n",
      "3  0.358751  0.531784 -0.140076 -0.152706  1.391226\n",
      "         6         7         8         9         10\n",
      "0  0.727982  0.003564  1.263023  1.450848       NaN\n",
      "1       NaN       NaN       NaN       NaN       NaN\n",
      "2       NaN       NaN       NaN       NaN  0.139199\n",
      "3  0.358751  0.531784       NaN       NaN  1.391226\n",
      "         6         7         8         9         10\n",
      "0  0.727982  0.003564  1.263023  1.450848 -1.800936\n",
      "3  0.358751  0.531784 -0.140076 -0.152706  1.391226\n"
     ]
    }
   ],
   "source": [
    "# Boolean 索引值选取原dataframe\n",
    "print df2\n",
    "print df2[df2>0]#整个矩阵做比较\n",
    "print df2[df2.iloc[:,0]>0]#选择第一列大于0的那几行元素输出"
   ]
  }
 ],
 "metadata": {
  "kernelspec": {
   "display_name": "Python 2",
   "language": "python",
   "name": "python2"
  },
  "language_info": {
   "codemirror_mode": {
    "name": "ipython",
    "version": 2
   },
   "file_extension": ".py",
   "mimetype": "text/x-python",
   "name": "python",
   "nbconvert_exporter": "python",
   "pygments_lexer": "ipython2",
   "version": "2.7.10"
  }
 },
 "nbformat": 4,
 "nbformat_minor": 0
}
